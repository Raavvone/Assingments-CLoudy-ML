{
  "cells": [
    {
      "cell_type": "markdown",
      "metadata": {
        "id": "view-in-github",
        "colab_type": "text"
      },
      "source": [
        "<a href=\"https://colab.research.google.com/github/Raavvone/Assingments-CLoudy-ML/blob/main/HangMan_Game_without_code.ipynb\" target=\"_parent\"><img src=\"https://colab.research.google.com/assets/colab-badge.svg\" alt=\"Open In Colab\"/></a>"
      ]
    },
    {
      "cell_type": "markdown",
      "id": "6c02d853",
      "metadata": {
        "id": "6c02d853"
      },
      "source": [
        "# Hangman Game"
      ]
    },
    {
      "cell_type": "markdown",
      "id": "c15ada68",
      "metadata": {
        "id": "c15ada68"
      },
      "source": [
        "### In this project we are going to create Hangman Game using python"
      ]
    },
    {
      "cell_type": "markdown",
      "id": "83124fbb",
      "metadata": {
        "id": "83124fbb"
      },
      "source": [
        "#### Q. What is the hangman game?\n",
        "- A:- Hangman is a guessing game. The player will tries to guess a word picked by the computer, by suggesting letters within a certain number of guesses"
      ]
    },
    {
      "cell_type": "markdown",
      "id": "09ad41dc",
      "metadata": {
        "id": "09ad41dc"
      },
      "source": [
        "### Task 1\n",
        "Create a function __is_word_guessed__ that takes in two arguments :-  \n",
        "__secret_word, letters_guessed__  \n",
        "__returns True__ if all of the letter of secret_word are in letters_guessed, __returns False__ if not  \n",
        "\n",
        "\n",
        "\n",
        "#### Assumptions\n",
        "__secret_word__: string, the word the user is guessing; assumes all letters are lowercase\n",
        "__letters_guessed__: list (of letters), which letters have been guessed so far; assumes that all letters are lowercase\n",
        "\n",
        "\n",
        "__Example__:-  \n",
        "secret_word = 'apple'  \n",
        "letters_guessed = ['e', 'a', 'k', 'p', 'l', 's']  \n",
        "is_word_guessed() will return True.  \n",
        "  \n",
        "  \n",
        "secret_word = 'apple'  \n",
        "letters_guessed = ['e', 'i', 'k', 'p', 'r', 's']  \n",
        "is_word_guessed() will return False.  "
      ]
    },
    {
      "cell_type": "code",
      "source": [
        "def is_word_guessed(secret_word, letters_guessed):\n",
        "    # Iterate through each letter in the secret word\n",
        "    for letter in secret_word:\n",
        "        # Check if the letter is not in the list of guessed letters\n",
        "        if letter not in letters_guessed:\n",
        "            # If a letter is not guessed, return False immediately\n",
        "            return False\n",
        "    # If the loop completes, all letters in the secret word have been guessed\n",
        "    return True\n",
        "\n",
        "# Example usage\n",
        "secret_word = 'apple'\n",
        "letters_guessed = ['e', 'a', 'k', 'p', 'l', 's']\n",
        "print(is_word_guessed(secret_word, letters_guessed))  # Output: True\n",
        "\n",
        "secret_word = 'apple'\n",
        "letters_guessed = ['e', 'i', 'k', 'p', 'r', 's']\n",
        "print(is_word_guessed(secret_word, letters_guessed))  # Output: False\n"
      ],
      "metadata": {
        "id": "c5VN337R4_oB",
        "outputId": "abbde7e1-70bb-42f5-f84e-2eebdf2f5c2c",
        "colab": {
          "base_uri": "https://localhost:8080/"
        }
      },
      "id": "c5VN337R4_oB",
      "execution_count": 1,
      "outputs": [
        {
          "output_type": "stream",
          "name": "stdout",
          "text": [
            "True\n",
            "False\n"
          ]
        }
      ]
    },
    {
      "cell_type": "markdown",
      "id": "6bc56ae5",
      "metadata": {
        "id": "6bc56ae5"
      },
      "source": [
        "### Task 2\n",
        "Create a function __get_guessed_word__ that takes in two arguments :-  \n",
        "__secret_word, letters_guessed___\n",
        "__returns__ string, comprised of known letters, and unknown letters represented by an underscore and a space (_ )  \n",
        "\n",
        "\n",
        "#### Assumptions  \n",
        "__secret_word__: string, the word the user is guessing;  \n",
        "__letters_guessed__: list (of letters), which letters have been guessed so far  \n",
        "\n",
        "__Example__:-  \n",
        "__secret_word__ = 'apple'  \n",
        "__letters_guessed__ = ['e', 'i', 'k', 'p', 'r', 's']  \n",
        "get_guessed_word() will return '_ pp_ e'  \n",
        "You want something like a_ _ _ d_ j and Not a___d_j,  \n",
        "which might make it hard for the user to know how many characters are there to be\n",
        "guessed,  \n",
        "that's why you want to use '_ ' instead of '_'  "
      ]
    },
    {
      "cell_type": "code",
      "source": [
        "def get_guessed_word(secret_word, letters_guessed):\n",
        "    # Initialize an empty string to store the guessed word\n",
        "    guessed_word = ''\n",
        "\n",
        "    # Iterate through each character in the secret_word\n",
        "    for char in secret_word:\n",
        "        # If the character is guessed, append it to the guessed word\n",
        "        if char in letters_guessed:\n",
        "            guessed_word += char\n",
        "        # If the character is not guessed, append an underscore and a space\n",
        "        else:\n",
        "            guessed_word += '_ '\n",
        "\n",
        "    # Return the guessed word\n",
        "    return guessed_word\n",
        "\n",
        "# Example usage\n",
        "secret_word = 'apple'\n",
        "letters_guessed = ['e', 'i', 'k', 'p', 'r', 's']\n",
        "print(get_guessed_word(secret_word, letters_guessed))  # Output: '_ pp_ e'\n"
      ],
      "metadata": {
        "id": "ciTqpdbO5UVZ",
        "outputId": "42a9a357-155b-4e2d-eb9e-57da069b44cc",
        "colab": {
          "base_uri": "https://localhost:8080/"
        }
      },
      "id": "ciTqpdbO5UVZ",
      "execution_count": 2,
      "outputs": [
        {
          "output_type": "stream",
          "name": "stdout",
          "text": [
            "_ pp_ e\n"
          ]
        }
      ]
    },
    {
      "cell_type": "markdown",
      "id": "5581fc43",
      "metadata": {
        "id": "5581fc43"
      },
      "source": [
        "### Task 3\n",
        "Create a function get_available_letter that takes in one arguments  \n",
        "__letters_guessed__  \n",
        "__returns__ string (of letters), comprised of letters that represents which letters have not yet been guessed.  \n",
        "#### Assumptions\n",
        "__letters_guessed__: list (of letters), which letters have been guessed so far;\n",
        "\n",
        "__Example__:-  \n",
        "__letters_guessed__ = [’a’, ’l’, ’m’]  \n",
        "get_available_letter() will return 'bcdefghijknopqrstuvwxyz'  \n",
        "\n",
        "You might want to consider using string.ascii_lowercase :=  \n",
        "import string  \n",
        "print(string.ascii_lowercase)  \n",
        "output:- abcdefghijklmnopqrstuvwxyz  "
      ]
    },
    {
      "cell_type": "code",
      "source": [
        "import string\n",
        "\n",
        "def get_available_letters(letters_guessed):\n",
        "    '''\n",
        "    Get available letters that have not yet been guessed.\n",
        "\n",
        "    Parameters:\n",
        "    letters_guessed (list): List of letters that have been guessed so far.\n",
        "\n",
        "    Returns:\n",
        "    str: A string containing letters that have not been guessed.\n",
        "    '''\n",
        "    # Initialize available_letters with the entire alphabet\n",
        "    available_letters = string.ascii_lowercase\n",
        "\n",
        "    # Iterate through each letter that has been guessed\n",
        "    for letter in letters_guessed:\n",
        "        # Replace the guessed letter with an empty string in available_letters\n",
        "        available_letters = available_letters.replace(letter, '')\n",
        "\n",
        "    # Return the updated available_letters string\n",
        "    return available_letters\n",
        "\n",
        "# Example usage\n",
        "letters_guessed = ['a', 'l', 'm']\n",
        "print(get_available_letters(letters_guessed))  # Output: 'bcdefghijknopqrstuvwxyz'\n"
      ],
      "metadata": {
        "id": "9RJjBqnn5jj9",
        "outputId": "0f842971-140b-44d2-9f3b-cab3652bdd6a",
        "colab": {
          "base_uri": "https://localhost:8080/"
        }
      },
      "id": "9RJjBqnn5jj9",
      "execution_count": 3,
      "outputs": [
        {
          "output_type": "stream",
          "name": "stdout",
          "text": [
            "bcdefghijknopqrstuvwxyz\n"
          ]
        }
      ]
    },
    {
      "cell_type": "markdown",
      "id": "862d9652",
      "metadata": {
        "id": "862d9652"
      },
      "source": [
        "## Great, We have created all of the Helper functions, now let's start our work on the actual Hangman Game  \n",
        "\n",
        "\n",
        "# Hangman Game  \n",
        "\n",
        "Create a function __hangman__ that takes in one argument  \n",
        "__secret_word__ :- string, the secret word to guess.  \n",
        "\n",
        "__The function should do the following__:-  \n",
        "Starts up an interactive game of Hangman.\n",
        "- At the start of the game, let the user know how many letters the secret_word contains and how many guesses s/he starts with.\n",
        "- The user should start with 6 guesses\n",
        "- Before each round, you should display to the user how many guesses s/he has left and the letters that the user has not yet guessed.\n",
        "- Ask the user to supply one guess per round. Remember to make sure that the user puts in a letter!\n",
        "- The user should receive feedback immediately after each guess about whether their guess appears in the computer's word.\n",
        "- After each guess, you should display to the user the partially guessed word so far.\n",
        "- If the user inputs a letter that hasn’t been guessed before and the letter is in the secret word, the user loses no guesses.\n",
        "- Consonants: If the user inputs a consonant that hasn’t been guessed and the consonant is not in the secret word, the user loses one guess if it’s a consonant.\n",
        "- Vowels: If the vowel hasn’t been guessed and the vowel is not in the secret word, the user loses two guesses. Vowels are a, e, i, o, and u. y does not count as a vowel.\n",
        "- The game should end when the user constructs the full word or runs out of guesses.\n",
        "- If the player runs out of guesses before completing the word, tell them they lost and reveal the word to the user when the game ends.\n",
        "- If the user wins, print a congratulatory message and tell the user their score.\n",
        "- The total score is the number of guesses_remaining once the user has guessed the secret_word times the number of unique letters in secret_word.  \n",
        "\n",
        "<p style=\"text-align:center;\">Total score = guesses_remaining * number unique letters in secret_word</p>\n"
      ]
    },
    {
      "cell_type": "code",
      "source": [
        "import random\n",
        "import string\n",
        "\n",
        "def is_word_guessed(secret_word, letters_guessed):\n",
        "    for letter in secret_word:\n",
        "        if letter not in letters_guessed:\n",
        "            return False\n",
        "    return True\n",
        "\n",
        "def get_guessed_word(secret_word, letters_guessed):\n",
        "    guessed_word = ''\n",
        "    for char in secret_word:\n",
        "        if char in letters_guessed:\n",
        "            guessed_word += char\n",
        "        else:\n",
        "            guessed_word += '_ '\n",
        "    return guessed_word.strip()\n",
        "\n",
        "def get_available_letters(letters_guessed):\n",
        "    available_letters = string.ascii_lowercase\n",
        "    for letter in letters_guessed:\n",
        "        available_letters = available_letters.replace(letter, '')\n",
        "    return available_letters\n",
        "\n",
        "def hangman(secret_word):\n",
        "    '''\n",
        "    Start an interactive game of Hangman.\n",
        "\n",
        "    Parameters:\n",
        "    secret_word (str): The secret word to guess.\n",
        "    '''\n",
        "    # Initialize variables\n",
        "    guesses_remaining = 6\n",
        "    letters_guessed = []\n",
        "    vowels = 'aeiou'\n",
        "\n",
        "    # Display a welcome message\n",
        "    print(\"Welcome to Hangman!\")\n",
        "    print(f\"The word has {len(secret_word)} letters.\\n\")\n",
        "\n",
        "    # Start the game loop\n",
        "    while guesses_remaining > 0:\n",
        "        print(\"Guesses remaining:\", guesses_remaining)\n",
        "        print(\"Available letters:\", get_available_letters(letters_guessed))\n",
        "        print(\"Word:\", get_guessed_word(secret_word, letters_guessed))\n",
        "\n",
        "        # Get the user's guess\n",
        "        guess = input(\"Guess a letter: \").lower()\n",
        "\n",
        "        # Validate the input\n",
        "        if len(guess) != 1 or not guess.isalpha():\n",
        "            print(\"Please enter a single letter.\\n\")\n",
        "            continue\n",
        "\n",
        "        # Check if the letter has already been guessed\n",
        "        if guess in letters_guessed:\n",
        "            print(\"You've already guessed that letter.\\n\")\n",
        "            continue\n",
        "\n",
        "        # Add the guessed letter to the list\n",
        "        letters_guessed.append(guess)\n",
        "\n",
        "        # Check if the guessed letter is in the secret word\n",
        "        if guess in secret_word:\n",
        "            print(\"Correct guess.\\n\")\n",
        "        else:\n",
        "            if guess in vowels:\n",
        "                guesses_remaining -= 2\n",
        "            else:\n",
        "                guesses_remaining -= 1\n",
        "            print(\"Incorrect guess.\\n\")\n",
        "\n",
        "        # Check if the user has guessed the word\n",
        "        if is_word_guessed(secret_word, letters_guessed):\n",
        "            print(\"Congratulations, you've won!\")\n",
        "            score = guesses_remaining * len(set(secret_word))\n",
        "            print(f\"Your total score is: {score}\")\n",
        "            return\n",
        "\n",
        "    # If the user runs out of guesses\n",
        "    print(\"You've run out of guesses. The word was:\", secret_word)\n",
        "\n",
        "# Example usage\n",
        "word_list = ['apple', 'banana', 'grape', 'orange', 'mango']\n",
        "secret_word = random.choice(word_list)\n",
        "hangman(secret_word)\n"
      ],
      "metadata": {
        "id": "ApBvZBcz6Gbs",
        "outputId": "0ef7500c-1aea-41a5-ad00-9d7b42fc0cd8",
        "colab": {
          "base_uri": "https://localhost:8080/"
        }
      },
      "id": "ApBvZBcz6Gbs",
      "execution_count": 4,
      "outputs": [
        {
          "output_type": "stream",
          "name": "stdout",
          "text": [
            "Welcome to Hangman!\n",
            "The word has 6 letters.\n",
            "\n",
            "Guesses remaining: 6\n",
            "Available letters: abcdefghijklmnopqrstuvwxyz\n",
            "Word: _ _ _ _ _ _\n",
            "Guess a letter: f\n",
            "Incorrect guess.\n",
            "\n",
            "Guesses remaining: 5\n",
            "Available letters: abcdeghijklmnopqrstuvwxyz\n",
            "Word: _ _ _ _ _ _\n",
            "Guess a letter: s\n",
            "Incorrect guess.\n",
            "\n",
            "Guesses remaining: 4\n",
            "Available letters: abcdeghijklmnopqrtuvwxyz\n",
            "Word: _ _ _ _ _ _\n",
            "Guess a letter: g\n",
            "Correct guess.\n",
            "\n",
            "Guesses remaining: 4\n",
            "Available letters: abcdehijklmnopqrtuvwxyz\n",
            "Word: _ _ _ _ g_\n",
            "Guess a letter: o\n",
            "Correct guess.\n",
            "\n",
            "Guesses remaining: 4\n",
            "Available letters: abcdehijklmnpqrtuvwxyz\n",
            "Word: o_ _ _ g_\n",
            "Guess a letter: r\n",
            "Correct guess.\n",
            "\n",
            "Guesses remaining: 4\n",
            "Available letters: abcdehijklmnpqtuvwxyz\n",
            "Word: or_ _ g_\n",
            "Guess a letter: a\n",
            "Correct guess.\n",
            "\n",
            "Guesses remaining: 4\n",
            "Available letters: bcdehijklmnpqtuvwxyz\n",
            "Word: ora_ g_\n",
            "Guess a letter: n\n",
            "Correct guess.\n",
            "\n",
            "Guesses remaining: 4\n",
            "Available letters: bcdehijklmpqtuvwxyz\n",
            "Word: orang_\n",
            "Guess a letter: e\n",
            "Correct guess.\n",
            "\n",
            "Congratulations, you've won!\n",
            "Your total score is: 24\n"
          ]
        }
      ]
    },
    {
      "cell_type": "markdown",
      "id": "1a980dca",
      "metadata": {
        "id": "1a980dca"
      },
      "source": [
        "# Demo Game 1"
      ]
    },
    {
      "cell_type": "markdown",
      "id": "58d73ecb",
      "metadata": {
        "id": "58d73ecb"
      },
      "source": [
        "# Hangman Game\n",
        "\n",
        "Welcome to Hangman!\n",
        "The word has 6 letters.\n",
        "\n",
        "**Guesses remaining:** 6  \n",
        "**Available letters:** abcdefghijklmnopqrstuvwxyz  \n",
        "**Word:** \\_ \\_ \\_ \\_ \\_ \\_\n",
        "\n",
        "**Guess a letter:** u  \n",
        "Incorrect guess.\n",
        "\n",
        "**Guesses remaining:** 4  \n",
        "**Available letters:** abcdefghijklmnopqrstvwxyz  \n",
        "**Word:** \\_ \\_ \\_ \\_ \\_ \\_\n",
        "\n",
        "**Guess a letter:** a  \n",
        "Good guess!\n",
        "\n",
        "**Guesses remaining:** 4  \n",
        "**Available letters:** bcdefghijklmnopqrstvwxyz  \n",
        "**Word:** \\_ a\\_ a\\_ a\n",
        "\n",
        "**Guess a letter:** p  \n",
        "Please enter a single letter.\n",
        "\n",
        "**Guesses remaining:** 4  \n",
        "**Available letters:** bcdefghijklmnopqrstvwxyz  \n",
        "**Word:** \\_ a\\_ a\\_ a\n",
        "\n",
        "**Guess a letter:** b  \n",
        "Good guess!\n",
        "\n",
        "**Guesses remaining:** 4  \n",
        "**Available letters:** cdefghijklmnopqrstvwxyz  \n",
        "**Word:** ba\\_ a\\_ a\n",
        "\n",
        "**Guess a letter:** n  \n",
        "Good guess!\n",
        "\n",
        "Congratulations! You've guessed the word: banana  \n",
        "Your score: 12\n"
      ]
    },
    {
      "cell_type": "markdown",
      "id": "3b226e3c",
      "metadata": {
        "id": "3b226e3c"
      },
      "source": [
        "# Demo Game 2"
      ]
    },
    {
      "cell_type": "markdown",
      "id": "56806e75",
      "metadata": {
        "id": "56806e75"
      },
      "source": [
        "# Hangman Game\n",
        "\n",
        "Welcome to Hangman!\n",
        "The word has 6 letters.\n",
        "\n",
        "**Guesses remaining:** 6  \n",
        "**Available letters:** abcdefghijklmnopqrstuvwxyz  \n",
        "**Word:** \\_ \\_ \\_ \\_ \\_ \\_\n",
        "\n",
        "**Guess a letter:** h  \n",
        "Incorrect guess.\n",
        "\n",
        "**Guesses remaining:** 5  \n",
        "**Available letters:** abcdefgijklmnopqrstuvwxyz  \n",
        "**Word:** \\_ \\_ \\_ \\_ \\_ \\_\n",
        "\n",
        "**Guess a letter:** w  \n",
        "Incorrect guess.\n",
        "\n",
        "**Guesses remaining:** 4  \n",
        "**Available letters:** abcdefgijklmnopqrstuvxyz  \n",
        "**Word:** \\_ \\_ \\_ \\_ \\_ \\_\n",
        "\n",
        "**Guess a letter:** k  \n",
        "Incorrect guess.\n",
        "\n",
        "**Guesses remaining:** 3  \n",
        "**Available letters:** abcdefgijlmnopqrstuvxyz  \n",
        "**Word:** \\_ \\_ \\_ \\_ \\_ \\_\n",
        "\n",
        "**Guess a letter:** d  \n",
        "Incorrect guess.\n",
        "\n",
        "**Guesses remaining:** 2  \n",
        "**Available letters:** abcefgijlmnopqrstuvxyz  \n",
        "**Word:** \\_ \\_ \\_ \\_ \\_ \\_\n",
        "\n",
        "**Guess a letter:** a  \n",
        "Good guess!\n",
        "\n",
        "**Guesses remaining:** 2  \n",
        "**Available letters:** bcefgijlmnopqrstuvxyz  \n",
        "**Word:** \\_ a\\_ a\\_ a\n",
        "\n",
        "**Guess a letter:** b  \n",
        "Good guess!\n",
        "\n",
        "**Guesses remaining:** 2  \n",
        "**Available letters:** cefgijlmnopqrstuvxyz  \n",
        "**Word:** ba_ a_ a\n",
        "\n",
        "**Guess a letter:** e  \n",
        "Incorrect guess.\n",
        "\n",
        "You've run out of guesses. The word was: banana\n"
      ]
    },
    {
      "cell_type": "markdown",
      "id": "3706272f",
      "metadata": {
        "id": "3706272f"
      },
      "source": [
        "## Hints\n",
        "__Try to keep the output as similar to the one's above__  \n",
        "\n",
        "__Hints:-__  \n",
        "\n",
        "1. Consider writing additional helper functions if you need them.  \n",
        "2. There are four important pieces of information you may wish to store:  \n",
        "a. secret_word: The word to guess. This is already used as the parameter name for the hangman function.  \n",
        "b. letters_guessed: The letters that have been guessed so far. If they guess a letter that is already in letters_guessed, you should print a message telling them they've already guessed that but do not penalize them for it.  \n",
        "c. guesses_remaining: The number of guesses the user has left. Note that in our example game, the penalty for choosing an incorrect vowel is different than the pena lty for choosing an incorrect consonant.  "
      ]
    },
    {
      "cell_type": "code",
      "execution_count": null,
      "id": "e0b3c743",
      "metadata": {
        "id": "e0b3c743"
      },
      "outputs": [],
      "source": []
    }
  ],
  "metadata": {
    "kernelspec": {
      "display_name": "Python 3 (ipykernel)",
      "language": "python",
      "name": "python3"
    },
    "language_info": {
      "codemirror_mode": {
        "name": "ipython",
        "version": 3
      },
      "file_extension": ".py",
      "mimetype": "text/x-python",
      "name": "python",
      "nbconvert_exporter": "python",
      "pygments_lexer": "ipython3",
      "version": "3.9.7"
    },
    "colab": {
      "provenance": [],
      "include_colab_link": true
    }
  },
  "nbformat": 4,
  "nbformat_minor": 5
}