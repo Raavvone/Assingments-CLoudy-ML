{
  "nbformat": 4,
  "nbformat_minor": 0,
  "metadata": {
    "colab": {
      "provenance": [],
      "include_colab_link": true
    },
    "kernelspec": {
      "name": "python3",
      "display_name": "Python 3"
    },
    "language_info": {
      "name": "python"
    }
  },
  "cells": [
    {
      "cell_type": "markdown",
      "metadata": {
        "id": "view-in-github",
        "colab_type": "text"
      },
      "source": [
        "<a href=\"https://colab.research.google.com/github/Raavvone/Assingments-CLoudy-ML/blob/main/function.ipynb\" target=\"_parent\"><img src=\"https://colab.research.google.com/assets/colab-badge.svg\" alt=\"Open In Colab\"/></a>"
      ]
    },
    {
      "cell_type": "markdown",
      "source": [
        "### **Task 1:**\n",
        " Define a function `intersect` that takes two lists and returns a new list that contains only the elements that are common to both input lists. The returned list should have no duplicates.\n",
        "\n",
        "\n",
        "##### Sample Inputs and Expected Outputs:\n",
        "\n",
        "Sample Input 1:\n",
        "```python\n",
        "list1 = [1, 2, 3, 4, 5]\n",
        "list2 = [3, 4, 5, 6, 7]\n",
        "```\n",
        "##### Expected Output 1:\n",
        "```python\n",
        "[3, 4, 5]\n",
        "```\n",
        "\n",
        "##### Sample Input 2:\n",
        "```python\n",
        "list1 = ['apple', 'banana', 'cherry']\n",
        "list2 = ['banana', 'dragonfruit', 'elderberry']\n",
        "```\n",
        "##### Expected Output 2:\n",
        "```python\n",
        "['banana']\n",
        "```"
      ],
      "metadata": {
        "id": "cWGPPQvuDUDW"
      }
    },
    {
      "cell_type": "code",
      "source": [
        "def intersect(list1, list2):\n",
        "    result = []\n",
        "    for item in list1:\n",
        "        if item in list2 and item not in result:\n",
        "            result.append(item)\n",
        "    return result"
      ],
      "metadata": {
        "id": "0tP0O_PVFt2a"
      },
      "execution_count": 2,
      "outputs": []
    },
    {
      "cell_type": "code",
      "source": [
        "print(intersect([1, 2, 3, 4, 5], [3, 4, 5, 6, 7]))\n",
        "print(intersect(['apple', 'banana', 'cherry'], ['banana', 'dragonfruit', 'elderberry']))"
      ],
      "metadata": {
        "id": "vooXGJ78Ft46",
        "outputId": "11c96079-550c-4a4d-f7dc-7acb40be8763",
        "colab": {
          "base_uri": "https://localhost:8080/",
          "height": 0
        }
      },
      "execution_count": 5,
      "outputs": [
        {
          "output_type": "stream",
          "name": "stdout",
          "text": [
            "[3, 4, 5]\n",
            "['banana']\n"
          ]
        }
      ]
    },
    {
      "cell_type": "code",
      "source": [],
      "metadata": {
        "id": "KenjWOWHFt7S"
      },
      "execution_count": null,
      "outputs": []
    },
    {
      "cell_type": "code",
      "source": [],
      "metadata": {
        "id": "MpMiOGWPFt-E"
      },
      "execution_count": null,
      "outputs": []
    },
    {
      "cell_type": "markdown",
      "source": [
        "### **Task 2:**\n",
        "Write a function `group_by_length` that takes a list of words and returns a dictionary where the keys are word lengths and the values are lists of words that have that length.\n",
        "\n",
        "\n",
        "### Sample Input and Output:\n",
        "\n",
        "**Input:**\n",
        "```python\n",
        "words = [\"apple\", \"bat\", \"bar\", \"atom\", \"book\"]\n",
        "```\n",
        "\n",
        "**Output:**\n",
        "```python\n",
        "{5: [\"apple\"], 3: [\"bat\", \"bar\"], 4: [\"atom\", \"book\"]}\n",
        "```\n",
        "\n",
        "### Explanation:\n",
        "- Words \"bat\" and \"bar\" have 3 letters, so they are grouped under the key `3`.\n",
        "- Words \"atom\" and \"book\" have 4 letters, so they are grouped under the key `4`.\n",
        "- Word \"apple\" has 5 letters, so it is grouped under the key `5`.\n",
        "\n"
      ],
      "metadata": {
        "id": "Cnj4SeJQDKje"
      }
    },
    {
      "cell_type": "code",
      "source": [
        "def group_by_length(words):\n",
        "    result = {}\n",
        "    for word in words:\n",
        "        length = len(word)\n",
        "        if length in result:\n",
        "            result[length].append(word)\n",
        "        else:\n",
        "            result[length] = [word]\n",
        "    return result\n",
        "\n"
      ],
      "metadata": {
        "id": "fpIs94fNDEuB"
      },
      "execution_count": 6,
      "outputs": []
    },
    {
      "cell_type": "code",
      "source": [
        "print(group_by_length([\"apple\", \"bat\", \"bar\", \"atom\", \"book\"]))"
      ],
      "metadata": {
        "id": "oL9EBnO0MROV",
        "outputId": "a5e3e548-d0be-42ec-dc5c-fb340a2465a7",
        "colab": {
          "base_uri": "https://localhost:8080/",
          "height": 0
        }
      },
      "execution_count": 7,
      "outputs": [
        {
          "output_type": "stream",
          "name": "stdout",
          "text": [
            "{5: ['apple'], 3: ['bat', 'bar'], 4: ['atom', 'book']}\n"
          ]
        }
      ]
    },
    {
      "cell_type": "code",
      "source": [],
      "metadata": {
        "id": "d31pmb4pMRQ0"
      },
      "execution_count": null,
      "outputs": []
    },
    {
      "cell_type": "code",
      "source": [],
      "metadata": {
        "id": "iatH120YMRTo"
      },
      "execution_count": null,
      "outputs": []
    },
    {
      "cell_type": "markdown",
      "source": [
        "### **Task 3:**\n",
        " Write a function `merge_sorted_lists` that takes two lists of numbers, both sorted in ascending order, and returns a merged list of these two lists also in ascending order, without using the built-in sort method.\n",
        "\n",
        "### Input:\n",
        "- `list1`: A list of integers sorted in non-decreasing order.\n",
        "- `list2`: A list of integers sorted in non-decreasing order.\n",
        "\n",
        "### Output:\n",
        "- Return a single list containing all elements from both input lists, sorted in non-decreasing order.\n",
        "\n",
        "### Examples:\n",
        "\n",
        "**Example 1:**\n",
        "```plaintext\n",
        "Input: list1 = [1, 2, 4], list2 = [1, 3, 4]\n",
        "Output: [1, 1, 2, 3, 4, 4]\n",
        "Explanation: The elements from both lists are merged and the resultant list is sorted in ascending order.\n",
        "```\n",
        "\n",
        "**Example 2:**\n",
        "```plaintext\n",
        "Input: list1 = [0, 3, 7], list2 = [2, 5, 6]\n",
        "Output: [0, 2, 3, 5, 6, 7]\n",
        "Explanation: After merging both lists, the resulting list is sorted in ascending order.\n",
        "```\n",
        "\n",
        "**Example 3:**\n",
        "```plaintext\n",
        "Input: list1 = [], list2 = [0, 1, 2, 3]\n",
        "Output: [0, 1, 2, 3]\n",
        "Explanation: Since the first list is empty, the merged list is simply the second list which is already sorted.\n",
        "```"
      ],
      "metadata": {
        "id": "jYSyqmtHMs8b"
      }
    },
    {
      "cell_type": "code",
      "source": [
        "def merge_sorted_lists(list1, list2):\n",
        "    result = []\n",
        "    i = j = 0\n",
        "\n",
        "\n",
        "    while i < len(list1) and j < len(list2):\n",
        "        if list1[i] <= list2[j]:\n",
        "            result.append(list1[i])\n",
        "            i += 1\n",
        "        else:\n",
        "            result.append(list2[j])\n",
        "            j += 1\n",
        "\n",
        "\n",
        "    while i < len(list1):\n",
        "        result.append(list1[i])\n",
        "        i += 1\n",
        "\n",
        "    while j < len(list2):\n",
        "        result.append(list2[j])\n",
        "        j += 1\n",
        "\n",
        "    return result\n",
        "\n"
      ],
      "metadata": {
        "id": "2VlvAlZQMvfC"
      },
      "execution_count": 9,
      "outputs": []
    },
    {
      "cell_type": "code",
      "source": [
        "print(merge_sorted_lists([1, 2, 4], [1, 3, 4]))  # [1, 1, 2, 3, 4, 4]\n",
        "print(merge_sorted_lists([0, 3, 7], [2, 5, 6]))  # [0, 2, 3, 5, 6, 7]\n",
        "print(merge_sorted_lists([], [0, 1, 2, 3]))      # [0, 1, 2, 3]"
      ],
      "metadata": {
        "id": "qnze-tPpOHYb",
        "outputId": "2f380041-5428-4690-ca0a-0a737a7e4c70",
        "colab": {
          "base_uri": "https://localhost:8080/",
          "height": 0
        }
      },
      "execution_count": 10,
      "outputs": [
        {
          "output_type": "stream",
          "name": "stdout",
          "text": [
            "[1, 1, 2, 3, 4, 4]\n",
            "[0, 2, 3, 5, 6, 7]\n",
            "[0, 1, 2, 3]\n"
          ]
        }
      ]
    },
    {
      "cell_type": "code",
      "source": [],
      "metadata": {
        "id": "fWuYsvv3OHbH"
      },
      "execution_count": null,
      "outputs": []
    },
    {
      "cell_type": "code",
      "source": [],
      "metadata": {
        "id": "BqoLNRmjOHeH"
      },
      "execution_count": null,
      "outputs": []
    },
    {
      "cell_type": "code",
      "source": [],
      "metadata": {
        "id": "gtTjeA-NOHg5"
      },
      "execution_count": null,
      "outputs": []
    },
    {
      "cell_type": "markdown",
      "source": [
        "### **Task 4:**\n",
        "Write a function `longest_consecutive` that takes a list of integers and returns the length of the longest consecutive elements sequence. The list may not be sorted.\n",
        "\n",
        "### Examples:\n",
        "\n",
        "**Example 1:**\n",
        "- **Input:** `nums = [100, 4, 200, 1, 3, 2]`\n",
        "- **Output:** `4`\n",
        "- **Explanation:** The longest consecutive elements sequence is `[1, 2, 3, 4]`. Therefore, the returned value should be 4.\n",
        "\n",
        "**Example 2:**\n",
        "- **Input:** `nums = [0, 3, 7, 2, 5, 8, 4, 6, 0, 1]`\n",
        "- **Output:** `9`\n",
        "- **Explanation:** The longest consecutive elements sequence is `[0, 1, 2, 3, 4, 5, 6, 7, 8]`. Therefore, the returned value should be 9.\n",
        "\n",
        "**Example 3:**\n",
        "- **Input:** `nums = []`\n",
        "- **Output:** `0`\n",
        "- **Explanation:** There are no numbers in the list, hence no consecutive sequence.\n",
        "\n",
        "**Example 4:**\n",
        "- **Input:** `nums = [9,1,4,7,3,-1,0,5,8,-1,6]`\n",
        "- **Output:** `7`\n",
        "- **Explanation:** The longest consecutive elements sequence is `[-1, 0, 1, 3, 4, 5, 6, 7, 8, 9]`, but the sub-sequence starting from 3 to 9 is continuous and has 7 elements."
      ],
      "metadata": {
        "id": "Dg0ogMKTM7GB"
      }
    },
    {
      "cell_type": "code",
      "source": [
        "def longest_consecutive(nums):\n",
        "    if not nums:\n",
        "        return 0\n",
        "\n",
        "    num_set = set(nums)\n",
        "    longest = 0\n",
        "\n",
        "    for num in num_set:\n",
        "        if num - 1 not in num_set:\n",
        "            current = num\n",
        "            count = 1\n",
        "\n",
        "            while current + 1 in num_set:\n",
        "                current += 1\n",
        "                count += 1\n",
        "\n",
        "            longest = max(longest, count)\n",
        "\n",
        "    return longest\n"
      ],
      "metadata": {
        "id": "lEwVRghQOCY2"
      },
      "execution_count": 11,
      "outputs": []
    },
    {
      "cell_type": "code",
      "source": [
        "print(longest_consecutive([100, 4, 200, 1, 3, 2]))  # Output: 4\n",
        "print(longest_consecutive([0, 3, 7, 2, 5, 8, 4, 6, 0, 1]))  # Output: 9\n",
        "print(longest_consecutive([]))  # Output: 0\n",
        "print(longest_consecutive([9, 1, 4, 7, 3, -1, 0, 5, 8, -1, 6]))  # Output: 10\n"
      ],
      "metadata": {
        "id": "F_xtSzv2OCbR",
        "outputId": "d7de7450-e21d-4cc8-d5e8-0450fe4cfd52",
        "colab": {
          "base_uri": "https://localhost:8080/",
          "height": 0
        }
      },
      "execution_count": 12,
      "outputs": [
        {
          "output_type": "stream",
          "name": "stdout",
          "text": [
            "4\n",
            "9\n",
            "0\n",
            "7\n"
          ]
        }
      ]
    },
    {
      "cell_type": "code",
      "source": [],
      "metadata": {
        "id": "QHFdKYt6OCeD"
      },
      "execution_count": null,
      "outputs": []
    },
    {
      "cell_type": "markdown",
      "source": [
        "###**Task 5:**\n",
        " Define a function `diagonal_sum` that takes a square matrix (list of lists) and returns the sum of the diagonals. If a value appears on both diagonals, count it only once.\n",
        "\n",
        "### Parameters\n",
        "- **matrix** (List[List[int]]): A 2D list of integers representing a square matrix.\n",
        "\n",
        "### Returns\n",
        "- **int**: The sum of the elements on both diagonals of the matrix.\n",
        "\n",
        "### Sample Input and Output\n",
        "#### Example 1:\n",
        "**Input:**\n",
        "```python\n",
        "matrix = [\n",
        "    [1, 2, 3],\n",
        "    [4, 5, 6],\n",
        "    [7, 8, 9]\n",
        "]\n",
        "```\n",
        "**Output:**\n",
        "```\n",
        "25\n",
        "```\n",
        "**Explanation:**\n",
        "The main diagonal elements are 1, 5, 9. The secondary diagonal elements are 3, 5, 7. Summing them up gives 1 + 5 + 9 + 3 + 7 = 25. Note that 5 is counted only once.\n",
        "\n",
        "#### Example 2:\n",
        "**Input:**\n",
        "```python\n",
        "matrix = [\n",
        "    [5, 1, 9, 11],\n",
        "    [2, 4, 8, 10],\n",
        "    [13, 3, 6, 7],\n",
        "    [15, 14, 12, 16]\n",
        "]\n",
        "```\n",
        "**Output:**\n",
        "```\n",
        "53\n",
        "```\n",
        "**Explanation:**\n",
        "The main diagonal elements are 5, 4, 6, 16. The secondary diagonal elements are 11, 8, 3, 15. Summing them up gives 5 + 4 + 6 + 16 + 11 + 8 + 3 + 15 = 53. All elements are counted only once.\n",
        "\n"
      ],
      "metadata": {
        "id": "ePVVi6y7NFA7"
      }
    },
    {
      "cell_type": "code",
      "source": [
        "def diagonal_sum(matrix):\n",
        "    n = len(matrix)\n",
        "    total = 0\n",
        "\n",
        "    for i in range(n):\n",
        "        total += matrix[i][i]                 # main diagonal\n",
        "        total += matrix[i][n - 1 - i]         # secondary diagonal\n",
        "\n",
        "    # Subtract the middle element once if matrix size is odd\n",
        "    if n % 2 == 1:\n",
        "        total -= matrix[n // 2][n // 2]\n",
        "\n",
        "    return total\n",
        "\n",
        "\n"
      ],
      "metadata": {
        "id": "gzVIkc_wQX5z"
      },
      "execution_count": 25,
      "outputs": []
    },
    {
      "cell_type": "code",
      "source": [
        "matrix1 = [\n",
        "    [1, 2, 3],\n",
        "    [4, 5, 6],\n",
        "    [7, 8, 9]\n",
        "]\n",
        "print(diagonal_sum(matrix1))\n",
        "\n",
        "matrix2 = [\n",
        "    [5, 1, 9, 11],\n",
        "    [2, 4, 8, 10],\n",
        "    [13, 3, 6, 7],\n",
        "    [15, 14, 12, 16]\n",
        "]\n",
        "print(diagonal_sum(matrix2))\n",
        "\n",
        "\n",
        "\n"
      ],
      "metadata": {
        "id": "t5upAO35QX8k",
        "outputId": "0e309c55-8708-4c79-e1d4-476469ab60d8",
        "colab": {
          "base_uri": "https://localhost:8080/",
          "height": 0
        }
      },
      "execution_count": 26,
      "outputs": [
        {
          "output_type": "stream",
          "name": "stdout",
          "text": [
            "25\n",
            "68\n"
          ]
        }
      ]
    },
    {
      "cell_type": "code",
      "source": [],
      "metadata": {
        "id": "2xcMm3Hrcg0E"
      },
      "execution_count": null,
      "outputs": []
    }
  ]
}