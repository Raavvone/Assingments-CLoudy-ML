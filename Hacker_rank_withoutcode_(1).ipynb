{
  "cells": [
    {
      "cell_type": "markdown",
      "metadata": {
        "id": "view-in-github",
        "colab_type": "text"
      },
      "source": [
        "<a href=\"https://colab.research.google.com/github/Raavvone/Assingments-CLoudy-ML/blob/main/Hacker_rank_withoutcode_(1).ipynb\" target=\"_parent\"><img src=\"https://colab.research.google.com/assets/colab-badge.svg\" alt=\"Open In Colab\"/></a>"
      ]
    },
    {
      "cell_type": "markdown",
      "metadata": {
        "id": "iIwF6wfwM_xK"
      },
      "source": [
        "## <center><u>Python Intermediate Challenge-1</u></center>\n",
        "\n",
        "\n",
        "54% of the respondents from the O'Reilly Data Science Salary Survey indicated that they used Python as a data science tool. Nobody can deny that Python has been on the rise in the data science industry and it certainly seems that it's here to stay.\n",
        "This rise in popularity in the industry, the long gone infancy of Python packages for data analysis, the low and gradual learning curve and the fact that it is a fully fledged programming language are only a couple of reasons that make Python an exceptional tool for data science.\n",
        "Although Python is a very readable language, you might still be able to use some help.\n",
        "\n",
        "You will be facing some challenging questions on python in this assignment. Below following steps would help you to complete this assignment:\n",
        "\n",
        "`1. Read the question\n",
        "2. Go to the link given under the question\n",
        "3. You will land on Hakerrank page, if not then create your Hakerrank account.\n",
        "4. Once you land on hankerank page mentioned under question, go through the given problem carefully.\n",
        "5. Solve it in the editor given in the page. Select python3 as your language in the editor and click 'Run Code' Button\n",
        "6. Once you have passed all the sample test cases, write your solution in this assignment against each question.`\n",
        "\n",
        "\n",
        "If you need any assistence on python, then please refer below cheatsheets:\n",
        "\n",
        "Cheatsheet reference: http://datacamp-community-prod.s3.amazonaws.com/0eff0330-e87d-4c34-88d5-73e80cb955f2\n",
        "\n",
        "\n",
        "\n",
        "    "
      ]
    },
    {
      "cell_type": "markdown",
      "metadata": {
        "id": "H1zFzoobM_xU"
      },
      "source": [
        "#### Q1 Python If-Else\n",
        "\n",
        "link - https://www.hackerrank.com/challenges/py-if-else/problem"
      ]
    },
    {
      "cell_type": "code",
      "execution_count": null,
      "metadata": {
        "colab": {
          "base_uri": "https://localhost:8080/"
        },
        "id": "lahuV-yTM_xV",
        "outputId": "cd0ab356-e84a-4ab8-d4ad-b3bd3f34e50a"
      },
      "outputs": [
        {
          "output_type": "stream",
          "name": "stdout",
          "text": [
            "7\n",
            "Weird\n"
          ]
        }
      ],
      "source": [
        "if __name__ == '__main__':\n",
        "    n = int(input().strip())\n",
        "\n",
        "if ((n%2==1) or  (n%2==0 and (6<=n<=20))):\n",
        "    print('Weird')\n",
        "if ((n%2==0) and ((2<=n<=5) or (n>20))):\n",
        "    print('Not Weird')\n",
        "\n",
        "\n",
        "\n",
        "\n",
        "\n",
        "\n",
        "\n",
        "\n",
        "\n"
      ]
    },
    {
      "cell_type": "markdown",
      "metadata": {
        "id": "r_vdfmHLM_xZ"
      },
      "source": [
        "#### Q2 Arithmetic Operators\n",
        "\n",
        "link - https://www.hackerrank.com/challenges/python-arithmetic-operators/problem"
      ]
    },
    {
      "cell_type": "code",
      "execution_count": null,
      "metadata": {
        "colab": {
          "base_uri": "https://localhost:8080/"
        },
        "id": "lSVZZaOtM_xa",
        "outputId": "66681c88-9004-4d71-ce52-50033e3d68cf"
      },
      "outputs": [
        {
          "output_type": "stream",
          "name": "stdout",
          "text": [
            "3\n",
            "5\n",
            "8\n",
            "-2\n",
            "15\n"
          ]
        }
      ],
      "source": [
        "if __name__ == '__main__':\n",
        "    a = int(input())\n",
        "    b = int(input())\n",
        "\n",
        "    print(a+b)\n",
        "    print(a-b)\n",
        "    print(a*b)\n",
        "\n",
        "\n",
        "\n",
        "\n",
        "\n",
        "\n",
        "\n",
        "\n",
        "\n",
        "\n"
      ]
    },
    {
      "cell_type": "markdown",
      "metadata": {
        "id": "RcsfN_8uM_xc"
      },
      "source": [
        "#### Q3 Print Function\n",
        "\n",
        "link - https://www.hackerrank.com/challenges/python-print/problem"
      ]
    },
    {
      "cell_type": "code",
      "execution_count": null,
      "metadata": {
        "colab": {
          "base_uri": "https://localhost:8080/"
        },
        "id": "tVQBqOWWM_xd",
        "outputId": "f9c885d3-8b1a-4b0c-ccf4-d040369fba83"
      },
      "outputs": [
        {
          "output_type": "stream",
          "name": "stdout",
          "text": [
            "5\n",
            "12345"
          ]
        }
      ],
      "source": [
        "if __name__ == '__main__':\n",
        "    n = int(input())\n",
        "\n",
        "i=1\n",
        "while i<=n:\n",
        "    print(i,end='')\n",
        "    i=i+1\n",
        "\n",
        "\n",
        "\n",
        "\n",
        "\n",
        "\n",
        "\n",
        "\n",
        "\n",
        "\n",
        "\n"
      ]
    },
    {
      "cell_type": "markdown",
      "metadata": {
        "id": "x8WvAFKRM_xf"
      },
      "source": [
        "#### Q4 Write a function\n",
        "\n",
        "link - https://www.hackerrank.com/challenges/write-a-function/problem"
      ]
    },
    {
      "cell_type": "code",
      "execution_count": null,
      "metadata": {
        "colab": {
          "base_uri": "https://localhost:8080/"
        },
        "id": "_ehUQWkCM_xg",
        "outputId": "38b80339-94cb-428e-916a-88dcfe2310f6"
      },
      "outputs": [
        {
          "name": "stdout",
          "output_type": "stream",
          "text": [
            "2021\n"
          ]
        }
      ],
      "source": [
        "def is_leap(year):\n",
        "    leap = False\n",
        "\n",
        "    # Write your logic here\n",
        "    if 1900<=year<=100000:\n",
        "        leap= False\n",
        "        if year%4==0 and (year %100 !=0 or year%400 ==0):\n",
        "            leap=True\n",
        "    return leap\n",
        "\n",
        "year = int(input())\n",
        "\n",
        "\n",
        "\n",
        "\n",
        "\n",
        "\n",
        "\n",
        "\n",
        "\n",
        "\n",
        "\n"
      ]
    },
    {
      "cell_type": "markdown",
      "metadata": {
        "id": "fnTO_s4mM_xj"
      },
      "source": [
        "#### Q5 List Comprehensions\n",
        "\n",
        "link - https://www.hackerrank.com/challenges/list-comprehensions/problem"
      ]
    },
    {
      "cell_type": "code",
      "execution_count": null,
      "metadata": {
        "colab": {
          "base_uri": "https://localhost:8080/"
        },
        "id": "0mIxAxptM_xk",
        "outputId": "4a780a60-e406-45f1-bfb4-5544c314dd79"
      },
      "outputs": [
        {
          "output_type": "stream",
          "name": "stdout",
          "text": [
            "1\n",
            "1\n",
            "1\n",
            "2\n",
            "[[0, 0, 0], [0, 0, 1], [0, 1, 0], [1, 0, 0], [1, 1, 1]]\n"
          ]
        }
      ],
      "source": [
        "if __name__ == '__main__':\n",
        "    x = int(input())\n",
        "    y = int(input())\n",
        "    z = int(input())\n",
        "    n = int(input())\n",
        "\n",
        "    result=[[a,b,c]for a in range(0,x+1) for b in range(0,y+1) for c in range(0,z+1) if (a+b+c )!=n]\n",
        "    print(result)\n",
        "\n",
        "\n",
        "\n",
        "\n",
        "\n",
        "\n",
        "\n",
        "\n",
        "\n",
        "\n",
        "\n"
      ]
    },
    {
      "cell_type": "markdown",
      "metadata": {
        "id": "UFw7MajaM_xl"
      },
      "source": [
        "1#### Q6 Find the Runner-Up Score!\n",
        "\n",
        "link - https://www.hackerrank.com/challenges/find-second-maximum-number-in-a-list/problem"
      ]
    },
    {
      "cell_type": "code",
      "execution_count": null,
      "metadata": {
        "id": "SpHCWs8dM_xm",
        "collapsed": true
      },
      "outputs": [],
      "source": [
        "\n",
        "if __name__ == '__main__':\n",
        "    n = int(input())\n",
        "    arr = map(int, input().split())\n",
        "\n",
        "    print(sorted(list(set(arr)))[-2])\n",
        "\n",
        "\n",
        "\n",
        "\n",
        "\n",
        "\n",
        "\n",
        "\n",
        "\n",
        "\n"
      ]
    },
    {
      "cell_type": "markdown",
      "metadata": {
        "id": "rHr5x6SlM_xm"
      },
      "source": [
        "#### Q7 Nested Lists\n",
        "\n",
        "link - https://www.hackerrank.com/challenges/nested-list/problem"
      ]
    },
    {
      "cell_type": "code",
      "execution_count": null,
      "metadata": {
        "id": "ggqz9NCYM_xn"
      },
      "outputs": [],
      "source": [
        "if __name__ == '__main__':\n",
        "    list_ = []\n",
        "    for _ in range(int(input())):\n",
        "        name = input()\n",
        "        score = float(input())\n",
        "        list_.append([name, score])\n",
        "\n",
        "    # Find the second lowest score\n",
        "    unique_scores = sorted(set(score for name, score in list_))\n",
        "    second_lowest = unique_scores[1]\n",
        "\n",
        "    # Get the names of students with the second lowest score\n",
        "    second_lowest_students = sorted(name for name, score in list_ if score == second_lowest)\n",
        "\n",
        "    # Print the names\n",
        "    for name in second_lowest_students:\n",
        "        print(name)\n",
        "\n",
        "\n",
        "\n",
        "\n",
        "\n",
        "\n",
        "\n",
        "\n",
        "\n",
        "\n",
        "\n",
        "\n",
        "\n"
      ]
    },
    {
      "cell_type": "markdown",
      "metadata": {
        "id": "6KKAX_HMM_xn"
      },
      "source": [
        "#### Q8 Finding the percentage\n",
        "\n",
        "link - https://www.hackerrank.com/challenges/finding-the-percentage/problem"
      ]
    },
    {
      "cell_type": "code",
      "execution_count": null,
      "metadata": {
        "id": "zxUzkVytM_xo"
      },
      "outputs": [],
      "source": [
        "\n",
        "if __name__ == '__main__':\n",
        "    n = int(input())\n",
        "    student_marks = {}\n",
        "    for _ in range(n):\n",
        "        name, *line = input().split()\n",
        "        scores = list(map(float, line))\n",
        "        student_marks[name] = scores\n",
        "    query_name = input()\n",
        "    query_scores = sum(student_marks[query_name]) / len(student_marks[query_name])\n",
        "    print(\"{:.2f}\".format(query_scores))\n",
        "\n",
        "\n",
        "\n",
        "\n",
        "\n",
        "\n",
        "\n",
        "\n",
        "\n",
        "\n",
        "\n",
        "\n",
        "\n",
        "\n",
        "\n"
      ]
    },
    {
      "cell_type": "markdown",
      "metadata": {
        "id": "2etpX3SgM_xo"
      },
      "source": [
        "#### Q9 Lists\n",
        "\n",
        "link - https://www.hackerrank.com/challenges/python-lists/problem"
      ]
    },
    {
      "cell_type": "code",
      "execution_count": null,
      "metadata": {
        "id": "T8KFuZ88M_xo"
      },
      "outputs": [],
      "source": [
        "if __name__ == '__main__':\n",
        "    N = int(input())\n",
        "    list_ = []\n",
        "    for i in range(N):\n",
        "        entry = input().split()\n",
        "        if entry[0] == 'insert':\n",
        "            list_.insert(int(entry[1]), int(entry[2]))\n",
        "        elif entry[0] == 'append':\n",
        "            list_.append(int(entry[1]))\n",
        "        elif entry[0] == 'remove':\n",
        "            list_.remove(int(entry[1]))\n",
        "        elif entry[0] == 'pop':\n",
        "            list_.pop()\n",
        "        elif entry[0] == 'print':\n",
        "            print(list_)\n",
        "        elif entry[0] == 'sort':\n",
        "            list_.sort()\n",
        "        elif entry[0] == 'reverse':\n",
        "            list_.reverse()\n",
        "\n",
        "\n",
        "\n",
        "\n",
        "\n",
        "\n",
        "\n",
        "\n",
        "\n",
        "\n",
        "\n",
        "\n"
      ]
    },
    {
      "cell_type": "markdown",
      "metadata": {
        "id": "pGkaW5nEM_xp"
      },
      "source": [
        "#### Q10 Tuples\n",
        "\n",
        "\n",
        "link - https://www.hackerrank.com/challenges/python-tuples/problem"
      ]
    },
    {
      "cell_type": "code",
      "execution_count": null,
      "metadata": {
        "id": "HFKukvhSM_xp"
      },
      "outputs": [],
      "source": [
        "\n",
        "if __name__ == '__main__':\n",
        "    n = int(input())\n",
        "    integer_list = map(int, input().split())\n",
        "    integer_list = tuple(integer_list)\n",
        "    hashed= hash(integer_list)\n",
        "    print(hashed)\n",
        "\n",
        "\n",
        "\n",
        "\n",
        "\n",
        "\n",
        "\n",
        "\n",
        "\n"
      ]
    },
    {
      "cell_type": "markdown",
      "metadata": {
        "id": "B42kzdlsM_xq"
      },
      "source": [
        "#### Q11 The Minion Game\n",
        "\n",
        "link - https://www.hackerrank.com/challenges/the-minion-game/problem"
      ]
    },
    {
      "cell_type": "code",
      "execution_count": null,
      "metadata": {
        "id": "Gpb8lWJQM_xq"
      },
      "outputs": [],
      "source": [
        "\n",
        "def minion_game(string):\n",
        "    # your code goes here\n",
        "    vowels = 'AEIOU'\n",
        "    K = 0\n",
        "    S = 0\n",
        "    for i in range(len(string)):\n",
        "        if string[i] in vowels:\n",
        "            K += len(string) - i\n",
        "        else:\n",
        "            S += len(string) - i\n",
        "    if S > K:\n",
        "        print(\"Stuart\", S)\n",
        "    elif K > S:\n",
        "        print(\"Kevin\", K)\n",
        "    else:\n",
        "        print(\"Draw\")\n",
        "\n",
        "if __name__ == '__main__':\n",
        "\n",
        "\n",
        "\n",
        "\n",
        "\n",
        "\n",
        "\n",
        "\n",
        "\n",
        "\n",
        "\n"
      ]
    },
    {
      "cell_type": "markdown",
      "metadata": {
        "id": "eQDaWt9YM_xq"
      },
      "source": [
        "#### Q12 Designer door mat\n",
        "\n",
        "link - https://www.hackerrank.com/challenges/designer-door-mat/problem"
      ]
    },
    {
      "cell_type": "code",
      "execution_count": null,
      "metadata": {
        "id": "L9muHQUvM_xr"
      },
      "outputs": [],
      "source": [
        "def print_door_mat(N, M):\n",
        "    pattern = [('.|.' * (2*i + 1)).center(M, '-') for i in range(N//2)]\n",
        "    print('\\n'.join(pattern + ['WELCOME'.center(M, '-')] + pattern[::-1]))\n",
        "\n",
        "if __name__ == '__main__':\n",
        "    N, M = map(int, input().split())\n",
        "    print_door_mat(N, M)\n",
        "\n",
        "\n",
        "\n",
        "\n",
        "\n",
        "\n",
        "\n",
        "\n",
        "\n",
        "\n"
      ]
    },
    {
      "cell_type": "markdown",
      "metadata": {
        "id": "hf6lDLmDM_xr"
      },
      "source": [
        "#### Q13 Merge the tools\n",
        "\n",
        "link - https://www.hackerrank.com/challenges/merge-the-tools/problem"
      ]
    },
    {
      "cell_type": "code",
      "execution_count": null,
      "metadata": {
        "id": "cB59OjTBM_xr"
      },
      "outputs": [],
      "source": [
        "def merge_the_tools(string, k):\n",
        "    # your code goes here\n",
        "    for i in range(0,len(string),k):\n",
        "        unique=''\n",
        "        for c in string[i:i+k]:\n",
        "            if (c not in unique):\n",
        "                unique+=c\n",
        "        print(unique)\n",
        "\n",
        "if __name__ == '__main__':"
      ]
    },
    {
      "cell_type": "markdown",
      "metadata": {
        "id": "nBdwMjoHM_xs"
      },
      "source": [
        "#### Q14 find a string\n",
        "\n",
        "link - https://www.hackerrank.com/challenges/find-a-string/problem"
      ]
    },
    {
      "cell_type": "code",
      "execution_count": null,
      "metadata": {
        "id": "l-eodZ3iM_xs"
      },
      "outputs": [],
      "source": [
        "\n",
        "def count_substring(string, sub_string):\n",
        "    count = 0\n",
        "    sub_len = len(sub_string)\n",
        "    for i in range(len(string) - sub_len + 1):\n",
        "        if string[i:i + sub_len] == sub_string:\n",
        "            count += 1\n",
        "    return count\n",
        "\n",
        "if __name__ == '__main__':\n",
        "    string = input().strip()\n",
        "    sub_string = input().strip()\n",
        "\n",
        "    count = count_substring(string, sub_string)\n",
        "    print(count)\n",
        "\n",
        "\n",
        "\n",
        "\n",
        "\n",
        "\n",
        "\n",
        "\n",
        "\n"
      ]
    },
    {
      "cell_type": "markdown",
      "metadata": {
        "id": "A0ux9020M_xs"
      },
      "source": [
        "#### Q15 no idea\n",
        "\n",
        "link - https://www.hackerrank.com/challenges/no-idea/problem"
      ]
    },
    {
      "cell_type": "code",
      "execution_count": null,
      "metadata": {
        "id": "_z8FZfsgM_xt"
      },
      "outputs": [],
      "source": [
        "# Enter your code here. Read input from STDIN. Print output to STDOUT\n",
        "num=input().split()\n",
        "array=input().split()\n",
        "like=set(input().split())\n",
        "dislike=set(input().split())\n",
        "\n",
        "print(sum((i in like)-(i in dislike) for i in array))\n",
        "\n",
        "\n",
        "\n",
        "\n",
        "\n",
        "\n",
        "\n"
      ]
    },
    {
      "cell_type": "markdown",
      "metadata": {
        "id": "YVUqvFrRM_xt"
      },
      "source": [
        "#### Q16 Symmetric difference set\n",
        "\n",
        "link - https://www.hackerrank.com/challenges/py-set-symmetric-difference-operation/problem\n"
      ]
    },
    {
      "cell_type": "code",
      "execution_count": null,
      "metadata": {
        "id": "P0hObfv1M_xt"
      },
      "outputs": [],
      "source": [
        "# Enter your code here. Read input from STDIN. Print output to STDOUT\n",
        "\n",
        "num1=int(input())\n",
        "english_student=set(input().split())\n",
        "num2=int(input())\n",
        "french_student=set(input().split())\n",
        "\n",
        "print(len(english_student.symmetric_difference(french_student)))\n",
        "\n",
        "\n",
        "\n",
        "\n",
        "\n",
        "\n",
        "\n",
        "\n",
        "\n"
      ]
    },
    {
      "cell_type": "markdown",
      "metadata": {
        "id": "YBEvVgCWM_xu"
      },
      "source": [
        "#### Q17 lambda map expression\n",
        "\n",
        "link - https://www.hackerrank.com/challenges/map-and-lambda-expression/problem"
      ]
    },
    {
      "cell_type": "code",
      "execution_count": null,
      "metadata": {
        "id": "aBIEHXTZM_xu"
      },
      "outputs": [],
      "source": [
        "cube = lambda x: x**3 # complete the lambda function\n",
        "\n",
        "def fibonacci(n):\n",
        "    a,b=0,1\n",
        "    for i in range(n):\n",
        "        yield a\n",
        "        a,b=b,a+b\n",
        "    # return a list of fibonacci numbers\n",
        "\n",
        "if __name__ == '__main__':\n",
        "    n = int(input())\n",
        "    print(list(map(cube, fibonacci(n))))\n",
        "\n",
        "\n",
        "\n",
        "\n",
        "\n",
        "\n",
        "\n"
      ]
    },
    {
      "cell_type": "markdown",
      "metadata": {
        "id": "IgSnAYeRM_xv"
      },
      "source": [
        "#### Q18. validate list of email address\n",
        "\n",
        "link - https://www.hackerrank.com/challenges/validate-list-of-email-address-with-filter/problem\n"
      ]
    },
    {
      "cell_type": "code",
      "execution_count": null,
      "metadata": {
        "id": "2bNNK1F6M_xv"
      },
      "outputs": [],
      "source": [
        "import re\n",
        "def fun(s):\n",
        "    pattern=re.compile(\"[\\w-]+@[0-9a-zA-Z]+\\.[a-zA-Z]{1,3}$\")\n",
        "    return pattern.match(s)\n",
        "\n",
        "    # return True if s is a valid email, else return False\n",
        "\n",
        "def filter_mail(emails):\n",
        "    return list(filter(fun, emails))\n",
        "\n",
        "if __name__ == '__main__':\n",
        "    n = int(input())\n",
        "    emails = []\n",
        "    for _ in range(n):\n",
        "        emails.append(input())\n",
        "\n",
        "filtered_emails = filter_mail(emails)\n",
        "filtered_emails.sort()\n",
        "print(filtered_emails)\n",
        "\n",
        "\n",
        "\n",
        "\n",
        "\n",
        "\n",
        "\n",
        "\n"
      ]
    },
    {
      "cell_type": "markdown",
      "metadata": {
        "id": "oiitu-6NM_xv"
      },
      "source": [
        "#### Q19 reduce function problem\n",
        "\n",
        "link - https://www.hackerrank.com/challenges/reduce-function/problem\n"
      ]
    },
    {
      "cell_type": "code",
      "execution_count": null,
      "metadata": {
        "id": "U-8SpC34M_xw"
      },
      "outputs": [],
      "source": [
        "\n",
        "from fractions import Fraction\n",
        "from functools import reduce\n",
        "from functools import reduce\n",
        "\n",
        "def product(fracs):\n",
        "    t = reduce(lambda x,y:x*y,fracs)\n",
        "    # complete this line with a reduce statement\n",
        "    return t.numerator, t.denominator\n",
        "\n",
        "if __name__ == '__main__':\n",
        "    fracs = []\n",
        "    for _ in range(int(input())):\n",
        "        fracs.append(Fraction(*map(int, input().split())))\n",
        "    result = product(fracs)\n",
        "    print(*result)\n",
        "\n",
        "\n",
        "\n",
        "\n",
        "\n",
        "\n",
        "\n"
      ]
    },
    {
      "cell_type": "markdown",
      "metadata": {
        "id": "KZX4A7V7M_x8"
      },
      "source": [
        "#### Q20 collection counter problem\n",
        "\n",
        "link - https://www.hackerrank.com/challenges/collections-counter/problem\n"
      ]
    },
    {
      "cell_type": "code",
      "execution_count": null,
      "metadata": {
        "id": "1Mrwgy5uM_x9"
      },
      "outputs": [],
      "source": [
        "# Enter your code here. Read input from STDIN. Print output to STDOUT\n",
        "\n",
        "import collections\n",
        "numShoes= int(input())\n",
        "shoes = collections.Counter(map(int,input().split()))\n",
        "numCust=int(input())\n",
        "\n",
        "income=0\n",
        "\n",
        "for i in range(numCust):\n",
        "    size,price=map(int,input().split())\n",
        "    if shoes[size]:\n",
        "        income+= price\n",
        "        shoes[size] -=1\n",
        "\n",
        "print(income)\n",
        "\n",
        "\n",
        "\n",
        "\n",
        "\n",
        "\n",
        "\n",
        "\n",
        "\n"
      ]
    },
    {
      "cell_type": "markdown",
      "metadata": {
        "id": "8NCVf77YM_x9"
      },
      "source": [
        "#### Q21 collections namedtuple\n",
        "\n",
        "link - https://www.hackerrank.com/challenges/py-collections-namedtuple/problem\n"
      ]
    },
    {
      "cell_type": "code",
      "execution_count": null,
      "metadata": {
        "id": "THvRzKkoM_x9"
      },
      "outputs": [],
      "source": [
        "# Enter your code here. Read input from STDIN. Print output to STDOUT\n",
        "from collections import namedtuple\n",
        "n=int(input())\n",
        "Info=namedtuple('Info',input())\n",
        "s=''\n",
        "sum=0\n",
        "\n",
        "for x in range(n):\n",
        "    a,b,c,d=input().split()\n",
        "    s=Info(a,b,c,d)\n",
        "    sum+=int(s.MARKS)\n",
        "print(round(sum/float(n),2))\n",
        "\n",
        "\n",
        "\n",
        "\n",
        "\n",
        "\n"
      ]
    },
    {
      "cell_type": "markdown",
      "metadata": {
        "id": "Nw8rhhGzM_x-"
      },
      "source": [
        "#### Q22 default dict\n",
        "\n",
        "link -\n",
        "https://www.hackerrank.com/challenges/defaultdict-tutorial/problem\n"
      ]
    },
    {
      "cell_type": "code",
      "execution_count": null,
      "metadata": {
        "id": "c2AUPzecM_x-"
      },
      "outputs": [],
      "source": [
        "\n",
        "# Enter your code here. Read input from STDIN. Print output to STDOUT\n",
        "\n",
        "from collections import defaultdict\n",
        "\n",
        "n,m=map(int,input().split())\n",
        "d=defaultdict(lambda:-1)\n",
        "\n",
        "for i in range(1,n+1):\n",
        "    word=input()\n",
        "    d[word]=d[word]+' '+str(i) if word in d else str(i)\n",
        "\n",
        "for _ in range(m):\n",
        "    print(d[input()])\n",
        "\n",
        "\n",
        "\n",
        "\n",
        "\n",
        "\n",
        "\n",
        "\n"
      ]
    },
    {
      "cell_type": "markdown",
      "metadata": {
        "id": "C2q2jOG8M_x-"
      },
      "source": [
        "#### Q23 Ordered dict\n",
        "\n",
        "link - https://www.hackerrank.com/challenges/py-collections-ordereddict/problem\n"
      ]
    },
    {
      "cell_type": "code",
      "execution_count": null,
      "metadata": {
        "id": "XYifRwPhM_x_"
      },
      "outputs": [],
      "source": [
        "\n",
        "# Enter your code here. Read input from STDIN. Print output to STDOUT\n",
        "\n",
        "from collections import OrderedDict\n",
        "d=OrderedDict()\n",
        "\n",
        "for _ in range(int(input())):\n",
        "    item,space,quantity=input().rpartition(' ')\n",
        "    d[item] = d.get(item,0)+ int(quantity)\n",
        "for item,quantity in d.items():\n",
        "    print(item,quantity)\n",
        "\n",
        "\n",
        "\n",
        "\n",
        "\n",
        "\n",
        "\n"
      ]
    },
    {
      "cell_type": "markdown",
      "metadata": {
        "id": "GmbcVkzcM_yA"
      },
      "source": [
        "#### Q24 word order\n",
        "\n",
        "link - https://www.hackerrank.com/challenges/word-order/problem\n"
      ]
    },
    {
      "cell_type": "code",
      "execution_count": null,
      "metadata": {
        "id": "-W27HelWM_yA"
      },
      "outputs": [],
      "source": [
        "# Enter your code here. Read input from STDIN. Print output to STDOUT\n",
        "from collections import OrderedDict\n",
        "words= OrderedDict()\n",
        "\n",
        "for _ in range(int(input())):\n",
        "    word= input()\n",
        "    words.setdefault(word,0)\n",
        "    words[word]+=1\n",
        "\n",
        "print(len(words))\n",
        "print(*words.values())\n",
        "\n",
        "\n",
        "\n",
        "\n",
        "\n",
        "\n",
        "\n"
      ]
    },
    {
      "cell_type": "markdown",
      "metadata": {
        "id": "R7RGC7YYM_yB"
      },
      "source": [
        "#### Q25 Company logo\n",
        "\n",
        "link - https://www.hackerrank.com/challenges/most-commons/problem\n"
      ]
    },
    {
      "cell_type": "code",
      "execution_count": null,
      "metadata": {
        "id": "rrbo4jcmM_yB"
      },
      "outputs": [],
      "source": [
        "#!/bin/python3\n",
        "\n",
        "import math\n",
        "import os\n",
        "import random\n",
        "import re\n",
        "import sys\n",
        "\n",
        "from  collections import Counter\n",
        "\n",
        "chars= Counter(input()).items()\n",
        "\n",
        "for char, n in sorted(chars,key=lambda c: (-c[1], c[0]))[:3]:\n",
        "    print(char,n)\n",
        "\n",
        "\n",
        "\n",
        "\n",
        "\n",
        "\n",
        "\n",
        "\n",
        "\n",
        "\n",
        "\n"
      ]
    },
    {
      "cell_type": "markdown",
      "metadata": {
        "id": "DI3H7hyaM_yB"
      },
      "source": [
        "#### Q26 itertools product\n",
        "\n",
        "link - https://www.hackerrank.com/challenges/itertools-product/problem\n"
      ]
    },
    {
      "cell_type": "code",
      "execution_count": null,
      "metadata": {
        "id": "SJ7AomDVM_yC"
      },
      "outputs": [],
      "source": [
        "# Enter your code here. Read input from STDIN. Print output to STDOUT\n",
        "\n",
        "from itertools import product\n",
        "\n",
        "a= list(map(int,input().split()))\n",
        "b= list(map(int,input().split()))\n",
        "\n",
        "print(*product(a,b))\n",
        "\n",
        "\n",
        "\n",
        "\n",
        "\n"
      ]
    },
    {
      "cell_type": "markdown",
      "metadata": {
        "id": "FXPgFfnEM_yC"
      },
      "source": [
        "#### Q27 itertools permutation\n",
        "\n",
        "link - https://www.hackerrank.com/challenges/itertools-permutations/problem\n"
      ]
    },
    {
      "cell_type": "code",
      "execution_count": null,
      "metadata": {
        "id": "EVNVMlvbM_yD"
      },
      "outputs": [],
      "source": [
        "# Enter your code here. Read input from STDIN. Print output to STDOUT\n",
        "\n",
        "from itertools import permutations\n",
        "s,n= input().split()\n",
        "print(*[''.join(i) for i in permutations(sorted(s),int(n))],sep='\\n')\n",
        "\n",
        "\n",
        "\n",
        "\n",
        "\n"
      ]
    },
    {
      "cell_type": "markdown",
      "metadata": {
        "id": "NIo2J8znM_yD"
      },
      "source": [
        "#### Q28 itertools combination\n",
        "\n",
        "link - https://www.hackerrank.com/challenges/itertools-combinations/problem\n"
      ]
    },
    {
      "cell_type": "code",
      "execution_count": null,
      "metadata": {
        "id": "UjHeXFzrM_yE"
      },
      "outputs": [],
      "source": [
        "# Enter your code here. Read input from STDIN. Print output to STDOUT\n",
        "\n",
        "from itertools import *\n",
        "\n",
        "s,k=input().split(' ')\n",
        "\n",
        "for l in range(1,int(k)+1):\n",
        "    for c in combinations (sorted(s),l):\n",
        "        print(''.join(c))\n",
        "\n",
        "\n",
        "\n",
        "\n",
        "\n",
        "\n"
      ]
    },
    {
      "cell_type": "markdown",
      "metadata": {
        "id": "2KOKSs2UM_yE"
      },
      "source": [
        "#### Q29 itertools combination\n",
        "\n",
        "link - https://www.hackerrank.com/challenges/itertools-combinations-with-replacement/problem\n"
      ]
    },
    {
      "cell_type": "code",
      "execution_count": null,
      "metadata": {
        "id": "YAVmfCIaM_yF"
      },
      "outputs": [],
      "source": [
        "# Enter your code here. Read input from STDIN. Print output to STDOUT\n",
        "\n",
        "from itertools import combinations_with_replacement\n",
        "\n",
        "s,k = input().split()\n",
        "\n",
        "for c in combinations_with_replacement(sorted(s),int(k)):\n",
        "    print(''.join(c))\n",
        "\n",
        "\n",
        "\n",
        "\n",
        "\n",
        "\n",
        "\n",
        "\n"
      ]
    },
    {
      "cell_type": "markdown",
      "metadata": {
        "id": "G82Y_A2eM_yF"
      },
      "source": [
        "#### Q30 compress the string\n",
        "\n",
        "link - https://www.hackerrank.com/challenges/compress-the-string/problem\n"
      ]
    },
    {
      "cell_type": "code",
      "execution_count": null,
      "metadata": {
        "id": "i55rApPFM_yF"
      },
      "outputs": [],
      "source": [
        "# Enter your code here. Read input from STDIN. Print output to STDOUT\n",
        "from itertools import groupby\n",
        "\n",
        "# Read input\n",
        "input_string = input().strip()\n",
        "\n",
        "# Use groupby to group consecutive characters\n",
        "groups = groupby(input_string)\n",
        "\n",
        "# Create a list of tuples containing (length of group, character as integer)\n",
        "result = [(len(list(c)), int(k)) for k, c in groups]\n",
        "\n",
        "# Print the result in the expected format\n",
        "print(*(f'({length}, {char})' for length, char in result))\n",
        "\n",
        "\n",
        "\n",
        "\n"
      ]
    },
    {
      "cell_type": "markdown",
      "metadata": {
        "id": "7SD2TYzaM_yG"
      },
      "source": [
        "#### Q31 iterables and iterators\n",
        "\n",
        "link - https://www.hackerrank.com/challenges/iterables-and-iterators/problem\n"
      ]
    },
    {
      "cell_type": "code",
      "execution_count": null,
      "metadata": {
        "id": "B2_XKYYOM_yG"
      },
      "outputs": [],
      "source": [
        "# Enter your code here. Read input from STDIN. Print output to STDOUT\n",
        "from itertools import combinations\n",
        "\n",
        "N = int(input())\n",
        "L = input().split()\n",
        "K = int(input())\n",
        "\n",
        "C= list(combinations(L,K))\n",
        "F= filter(lambda c: 'a' in c,C)\n",
        "print('{0:.3}'.format(len(list(F))/len(C)))\n",
        "\n",
        "\n",
        "\n",
        "\n",
        "\n"
      ]
    },
    {
      "cell_type": "markdown",
      "metadata": {
        "id": "evM4ilIJM_yH"
      },
      "source": [
        "#### Q32 Maximize it\n",
        "\n",
        "link - https://www.hackerrank.com/challenges/maximize-it/problem\n"
      ]
    },
    {
      "cell_type": "code",
      "execution_count": null,
      "metadata": {
        "id": "8heaNQ2eM_yH"
      },
      "outputs": [],
      "source": [
        "# Enter your code here. Read input from STDIN. Print output to STDOUT\n",
        "from itertools import product\n",
        "\n",
        "K, M = map(int, input().split())\n",
        "\n",
        "# Read input and prepare the lists\n",
        "N = [list(map(int, input().split()))[1:] for _ in range(K)]\n",
        "\n",
        "# Calculate the maximum sum of squares modulo M\n",
        "results = map(lambda x: sum(i ** 2 for i in x) % M, product(*N))\n",
        "\n",
        "# Print the maximum result\n",
        "print(max(results))\n",
        "\n",
        "\n",
        "\n",
        "\n",
        "\n",
        "\n"
      ]
    },
    {
      "cell_type": "markdown",
      "metadata": {
        "id": "yJbO4K6lM_yH"
      },
      "source": [
        "---------------------------------\n",
        "\n",
        "# \"Cheers\":) Congratulations! you have completed the Python Intermediate challenge.\n",
        "\n",
        "--------------------------------\n",
        "\n",
        "# FeedBack\n",
        "We hope you’ve enjoyed this course so far. We’re committed to help you use \"AI for All\" course to its full potential, so that you have a great learning experience. And that’s why we need your help in form of a feedback here.\n",
        "\n",
        "Please fill this feedback form  https://zfrmz.in/MtRG5oWXBdesm6rmSM7N"
      ]
    }
  ],
  "metadata": {
    "kernelspec": {
      "display_name": "Python 3",
      "language": "python",
      "name": "python3"
    },
    "language_info": {
      "codemirror_mode": {
        "name": "ipython",
        "version": 3
      },
      "file_extension": ".py",
      "mimetype": "text/x-python",
      "name": "python",
      "nbconvert_exporter": "python",
      "pygments_lexer": "ipython3",
      "version": "3.8.5"
    },
    "colab": {
      "provenance": [],
      "include_colab_link": true
    }
  },
  "nbformat": 4,
  "nbformat_minor": 0
}