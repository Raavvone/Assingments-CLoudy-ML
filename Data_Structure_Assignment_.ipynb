{
  "nbformat": 4,
  "nbformat_minor": 0,
  "metadata": {
    "colab": {
      "provenance": [],
      "authorship_tag": "ABX9TyMeAaxcUs+/rUuYfXKc/uVq",
      "include_colab_link": true
    },
    "kernelspec": {
      "name": "python3",
      "display_name": "Python 3"
    },
    "language_info": {
      "name": "python"
    }
  },
  "cells": [
    {
      "cell_type": "markdown",
      "metadata": {
        "id": "view-in-github",
        "colab_type": "text"
      },
      "source": [
        "<a href=\"https://colab.research.google.com/github/Raavvone/Assingments-CLoudy-ML/blob/main/Data_Structure_Assignment_.ipynb\" target=\"_parent\"><img src=\"https://colab.research.google.com/assets/colab-badge.svg\" alt=\"Open In Colab\"/></a>"
      ]
    },
    {
      "cell_type": "markdown",
      "source": [],
      "metadata": {
        "id": "u_WrJhOV3noJ"
      }
    },
    {
      "cell_type": "code",
      "execution_count": 1,
      "metadata": {
        "colab": {
          "base_uri": "https://localhost:8080/"
        },
        "id": "0g2venRwipg-",
        "outputId": "7eddec86-7b58-4fce-a97b-cda977c59701"
      },
      "outputs": [
        {
          "output_type": "stream",
          "name": "stdout",
          "text": [
            "HR: Average Age = 29.5\n",
            "Engineering: Average Age = 29.5\n",
            "Marketing: Average Age = 28.0\n"
          ]
        }
      ],
      "source": [
        "# 1. Given a list of dictionaries representing employees (with `name`, `age`, and `department`),\n",
        "# write code to group employees by their department and calculate the average age for each department.\n",
        "\n",
        "\n",
        "employees = [\n",
        "       {\"name\": \"Alice\", \"age\": 30, \"department\": \"HR\"},\n",
        "       {\"name\": \"Bob\", \"age\": 24, \"department\": \"Engineering\"},\n",
        "       {\"name\": \"Charlie\", \"age\": 29, \"department\": \"HR\"},\n",
        "       {\"name\": \"David\", \"age\": 35, \"department\": \"Engineering\"},\n",
        "       {\"name\": \"Eve\", \"age\": 28, \"department\": \"Marketing\"}\n",
        "   ]\n",
        "\n",
        "hr_total = hr_count = 0\n",
        "eng_total = eng_count = 0\n",
        "mkt_total = mkt_count = 0\n",
        "\n",
        "for emp in employees:\n",
        "    if emp[\"department\"] == \"HR\":\n",
        "        hr_total += emp[\"age\"]\n",
        "        hr_count += 1\n",
        "    elif emp[\"department\"] == \"Engineering\":\n",
        "        eng_total += emp[\"age\"]\n",
        "        eng_count += 1\n",
        "    elif emp[\"department\"] == \"Marketing\":\n",
        "        mkt_total += emp[\"age\"]\n",
        "        mkt_count += 1\n",
        "\n",
        "print(\"HR: Average Age =\", hr_total / hr_count)\n",
        "print(\"Engineering: Average Age =\", eng_total / eng_count)\n",
        "print(\"Marketing: Average Age =\", mkt_total / mkt_count)"
      ]
    },
    {
      "cell_type": "code",
      "source": [
        "from os import symlink\n",
        "# 2. - Given two sets of integers, write code to find the symmetric difference (elements present in one set but not the other)\n",
        "#  and then filter out all even numbers from the result.\n",
        "\n",
        "set1 = {1, 2, 3, 4, 5}\n",
        "set2 = {4, 5, 6, 7, 8}\n",
        "\n",
        "symmetric_difference = set1.symmetric_difference(set2)\n",
        "\n",
        "filtered_result = [num for num in symmetric_difference if num % 2 != 0]\n",
        "\n",
        "print(filtered_result)\n"
      ],
      "metadata": {
        "colab": {
          "base_uri": "https://localhost:8080/"
        },
        "id": "kjZbVhB_iufa",
        "outputId": "cb3dd335-c3d2-44ac-e84d-c1b088b261b6"
      },
      "execution_count": 2,
      "outputs": [
        {
          "output_type": "stream",
          "name": "stdout",
          "text": [
            "[1, 3, 7]\n"
          ]
        }
      ]
    },
    {
      "cell_type": "code",
      "source": [
        "# 3. Given a dictionary where keys are strings and values are lists of dictionaries\n",
        " # (each containing `name` and `score`), write code to find the highest score in each list\n",
        " #  and return a dictionary with these highest scores.\n",
        "\n",
        "data = {\n",
        "       \"class1\": [{\"name\": \"Alice\", \"score\": 85}, {\"name\": \"Bob\", \"score\": 92}],\n",
        "       \"class2\": [{\"name\": \"Charlie\", \"score\": 88}, {\"name\": \"David\", \"score\": 79}]\n",
        "   }\n",
        "\n",
        "highest_scores = {}\n",
        "\n",
        "for class_name, students in data.items():\n",
        "    max_score = max(student[\"score\"] for student in students)\n",
        "    highest_scores[class_name] = max_score\n",
        "\n",
        "print(highest_scores)"
      ],
      "metadata": {
        "colab": {
          "base_uri": "https://localhost:8080/"
        },
        "id": "e7grOWclixP8",
        "outputId": "b2d89421-1712-48b8-8697-2532a2f9c8e4"
      },
      "execution_count": 5,
      "outputs": [
        {
          "output_type": "stream",
          "name": "stdout",
          "text": [
            "{'class1': 92, 'class2': 88}\n"
          ]
        }
      ]
    },
    {
      "cell_type": "code",
      "source": [
        "# 4. Given a list of tuples representing product sales (with `product_name`, `quantity_sold`, and `price_per_unit`),\n",
        "#  write code to calculate the total sales for each product and return a dictionary with the product names as keys and\n",
        "# total sales as values.\n",
        "\n",
        "sales = [\n",
        "       (\"Product1\", 10, 2.5),\n",
        "       (\"Product2\", 5, 4.0),\n",
        "       (\"Product1\", 7, 2.5),\n",
        "       (\"Product3\", 3, 6.0)\n",
        "   ]\n",
        "\n",
        "total_sales = {}\n",
        "\n",
        "for product, quantity, price in sales:\n",
        "    amount = quantity * price\n",
        "    if product in total_sales:\n",
        "        total_sales[product] += amount\n",
        "    else:\n",
        "        total_sales[product] = amount\n",
        "\n",
        "print(total_sales)\n"
      ],
      "metadata": {
        "colab": {
          "base_uri": "https://localhost:8080/"
        },
        "id": "Mwo5frbqiyo-",
        "outputId": "3f62cc75-dc36-40ad-8852-78f800caa65e"
      },
      "execution_count": 6,
      "outputs": [
        {
          "output_type": "stream",
          "name": "stdout",
          "text": [
            "{'Product1': 42.5, 'Product2': 20.0, 'Product3': 18.0}\n"
          ]
        }
      ]
    },
    {
      "cell_type": "code",
      "source": [
        "# 5. Given a list of strings representing logs, where each log entry is in the\n",
        "# format `\"date: event\"`, write code to count the occurrences of each event and\n",
        "# return a dictionary with the event names as keys and their counts as values.\n",
        "\n",
        "logs = [\n",
        "       \"2023-05-01: login\",\n",
        "       \"2023-05-01: logout\",\n",
        "       \"2023-05-02: login\",\n",
        "       \"2023-05-02: login\",\n",
        "       \"2023-05-03: logout\"\n",
        "   ]\n",
        "\n",
        "event_counts = {}\n",
        "\n",
        "for log in logs:\n",
        "    # Split by \": \" to get the event part\n",
        "    event = log.split(\": \")[1]\n",
        "\n",
        "    # Count the event\n",
        "    if event in event_counts:\n",
        "        event_counts[event] += 1\n",
        "    else:\n",
        "        event_counts[event] = 1\n",
        "\n",
        "print(event_counts)"
      ],
      "metadata": {
        "colab": {
          "base_uri": "https://localhost:8080/"
        },
        "id": "-N7Nk_QOi0OE",
        "outputId": "1ab874ee-c732-46e3-c598-17dbce8369df"
      },
      "execution_count": 7,
      "outputs": [
        {
          "output_type": "stream",
          "name": "stdout",
          "text": [
            "{'login': 3, 'logout': 2}\n"
          ]
        }
      ]
    },
    {
      "cell_type": "code",
      "source": [
        "# 6. Given a list of numbers, write code to filter out all prime numbers and then\n",
        "# return the sum of the remaining numbers.\n",
        "\n",
        "numbers = [10, 15, 3, 7, 18, 21, 2, 5, 30]\n",
        "\n",
        "\n",
        "def is_prime(n):\n",
        "    if n < 2:\n",
        "        return False\n",
        "    for i in range(2, n):\n",
        "        if n % i == 0:\n",
        "            return False\n",
        "    return True\n",
        "\n",
        "total = 0\n",
        "\n",
        "for num in numbers:\n",
        "    if not is_prime(num):  # if the number is NOT prime\n",
        "        total += num       # add to total\n",
        "\n",
        "print(\"Sum of non-prime numbers:\", total)\n"
      ],
      "metadata": {
        "colab": {
          "base_uri": "https://localhost:8080/"
        },
        "id": "eBGHswkui161",
        "outputId": "72e8287b-b85d-4fb6-9413-d1cb6f3f8f4d"
      },
      "execution_count": 8,
      "outputs": [
        {
          "output_type": "stream",
          "name": "stdout",
          "text": [
            "Sum of non-prime numbers: 94\n"
          ]
        }
      ]
    },
    {
      "cell_type": "code",
      "source": [
        "# 7. Given a dictionary representing a company's hierarchy, where keys are department\n",
        "# names and values are dictionaries with employee names as keys and their salaries as values,\n",
        "# write code to find the department with the highest average salary.\n",
        "\n",
        "hierarchy = {\n",
        "       \"HR\": {\"Alice\": 70000, \"Bob\": 80000},\n",
        "       \"Engineering\": {\"Charlie\": 90000, \"David\": 95000},\n",
        "       \"Marketing\": {\"Eve\": 75000, \"Frank\": 70000}\n",
        "   }\n",
        "\n",
        "highest_avg = 0\n",
        "best_dept = \"\"\n",
        "\n",
        "for dept, employees in hierarchy.items():\n",
        "    total_salary = sum(employees.values())\n",
        "    num_employees = len(employees)\n",
        "    avg_salary = total_salary / num_employees\n",
        "\n",
        "    if avg_salary > highest_avg:\n",
        "        highest_avg = avg_salary\n",
        "        best_dept = dept\n",
        "\n",
        "print(\"Department with highest average salary:\", best_dept)"
      ],
      "metadata": {
        "colab": {
          "base_uri": "https://localhost:8080/"
        },
        "id": "bqMF_AuFi3L8",
        "outputId": "b9b4b79e-cd98-4cd5-f93e-f77fe6d1fde3"
      },
      "execution_count": 9,
      "outputs": [
        {
          "output_type": "stream",
          "name": "stdout",
          "text": [
            "Department with highest average salary: Engineering\n"
          ]
        }
      ]
    },
    {
      "cell_type": "code",
      "source": [
        "# 8. Given a list of words, write code to find all unique anagrams in the list. An anagram\n",
        "#  is a word formed by rearranging the letters of another word.\n",
        "\n",
        "words = [\"listen\", \"silent\", \"enlist\", \"google\", \"elgoog\", \"rat\", \"tar\", \"art\"]\n",
        "\n",
        "anagram_groups = {}\n",
        "\n",
        "for word in words:\n",
        "    # Sort letters in the word to create a key\n",
        "    key = ''.join(sorted(word))\n",
        "    if key in anagram_groups:\n",
        "        anagram_groups[key].add(word)\n",
        "    else:\n",
        "        anagram_groups[key] = {word}\n",
        "\n",
        "# Collect unique anagram sets (with more than 1 word)\n",
        "unique_anagrams = [list(group) for group in anagram_groups.values() if len(group) > 1]\n",
        "\n",
        "print(\"Unique anagram groups:\")\n",
        "for group in unique_anagrams:\n",
        "    print(group)\n",
        "\n",
        "\n",
        "\n"
      ],
      "metadata": {
        "colab": {
          "base_uri": "https://localhost:8080/"
        },
        "id": "mUJxZyO7i4l-",
        "outputId": "d055bf6a-25e3-4d51-cf94-a70f7f36e91a"
      },
      "execution_count": 10,
      "outputs": [
        {
          "output_type": "stream",
          "name": "stdout",
          "text": [
            "Unique anagram groups:\n",
            "['listen', 'silent', 'enlist']\n",
            "['google', 'elgoog']\n",
            "['tar', 'rat', 'art']\n"
          ]
        }
      ]
    },
    {
      "cell_type": "code",
      "source": [
        "# 9. Given a matrix (list of lists) of integers, write code to find and return the transpose\n",
        "# of the matrix. The transpose of a matrix is obtained by swapping rows and columns.\n",
        "\n",
        "\n",
        "matrix = [\n",
        "       [1, 2, 3],\n",
        "       [4, 5, 6],\n",
        "       [7, 8, 9]\n",
        "   ]\n",
        "\n",
        "transpose = []\n",
        "\n",
        "for i in range(len(matrix[0])):  # columns\n",
        "    row = []\n",
        "    for j in range(len(matrix)):  # rows\n",
        "        row.append(matrix[j][i])\n",
        "    transpose.append(row)\n",
        "\n",
        "print(\"Transpose of the matrix:\")\n",
        "for row in transpose:\n",
        "    print(row)"
      ],
      "metadata": {
        "colab": {
          "base_uri": "https://localhost:8080/"
        },
        "id": "T82HkeVTi6FY",
        "outputId": "ca3049fe-6487-4053-f59c-6b38f92fa2f8"
      },
      "execution_count": 11,
      "outputs": [
        {
          "output_type": "stream",
          "name": "stdout",
          "text": [
            "Transpose of the matrix:\n",
            "[1, 4, 7]\n",
            "[2, 5, 8]\n",
            "[3, 6, 9]\n"
          ]
        }
      ]
    },
    {
      "cell_type": "code",
      "source": [
        " # 10. Given a string, write code to count the frequency of each character (excluding spaces) and\n",
        " #return a dictionary with characters as keys and their frequencies as values.\n",
        "\n",
        "\n",
        "text = \"hello world\"\n",
        "\n",
        "char_freq = {}\n",
        "\n",
        "for char in text:\n",
        "    if char != ' ':\n",
        "        if char in char_freq:\n",
        "            char_freq[char] += 1\n",
        "        else:\n",
        "            char_freq[char] = 1\n",
        "\n",
        "print(char_freq)\n"
      ],
      "metadata": {
        "colab": {
          "base_uri": "https://localhost:8080/"
        },
        "id": "EyS3XH4hi7bl",
        "outputId": "950cd2bd-c177-4ab0-8e9b-64e965aaf97c"
      },
      "execution_count": 12,
      "outputs": [
        {
          "output_type": "stream",
          "name": "stdout",
          "text": [
            "{'h': 1, 'e': 1, 'l': 3, 'o': 2, 'w': 1, 'r': 1, 'd': 1}\n"
          ]
        }
      ]
    },
    {
      "cell_type": "code",
      "source": [],
      "metadata": {
        "id": "TInJ0bf43mBb"
      },
      "execution_count": null,
      "outputs": []
    }
  ]
}