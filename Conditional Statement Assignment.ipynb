{
  "nbformat": 4,
  "nbformat_minor": 0,
  "metadata": {
    "colab": {
      "provenance": [],
      "authorship_tag": "ABX9TyM28X2LbB9NOr3pkHX5dEzX",
      "include_colab_link": true
    },
    "kernelspec": {
      "name": "python3",
      "display_name": "Python 3"
    },
    "language_info": {
      "name": "python"
    }
  },
  "cells": [
    {
      "cell_type": "markdown",
      "metadata": {
        "id": "view-in-github",
        "colab_type": "text"
      },
      "source": [
        "<a href=\"https://colab.research.google.com/github/Raavvone/Assingments-CLoudy-ML/blob/main/Conditional%20Statement%20Assignment.ipynb\" target=\"_parent\"><img src=\"https://colab.research.google.com/assets/colab-badge.svg\" alt=\"Open In Colab\"/></a>"
      ]
    },
    {
      "cell_type": "markdown",
      "source": [
        "## **Conditional Statement Assignment**"
      ],
      "metadata": {
        "id": "S-c-eDV_ZFxt"
      }
    },
    {
      "cell_type": "code",
      "execution_count": 1,
      "metadata": {
        "colab": {
          "base_uri": "https://localhost:8080/"
        },
        "id": "eLuxPiVpXNHM",
        "outputId": "490fce94-2445-45f5-fc76-bed3f202973d"
      },
      "outputs": [
        {
          "output_type": "stream",
          "name": "stdout",
          "text": [
            "Enter the current temperature in °C: 28\n",
            "Warm day. Wear comfortable clothes like a t-shirt.\n"
          ]
        }
      ],
      "source": [
        "# Question 1 : Write a program that takes the current temperature and provides clothing advice\n",
        "\n",
        "temp = float(input(\"Enter the current temperature in °C: \"))\n",
        "\n",
        "\n",
        "if temp < 10:\n",
        "    print(\"It's cold! Wear a jacket or sweater.\")\n",
        "elif temp < 20:\n",
        "    print(\"Cool weather. A light sweater should be enough.\")\n",
        "elif temp < 30:\n",
        "    print(\"Warm day. Wear comfortable clothes like a t-shirt.\")\n",
        "else:\n",
        "    print(\"It's hot! Stay cool with light and breathable clothes.\")\n"
      ]
    },
    {
      "cell_type": "code",
      "source": [
        "# Question 2 : Create a program that determines if an applicant qualifies for a loan based on their\n",
        "# salary and years at their current job.\n",
        "\n",
        "salary= float(input(\"Enter your Salary: \"))\n",
        "years_at_job = int(input(\"Enter your years at current job: \"))\n",
        "\n",
        "if salary>25000 and years_at_job>2:\n",
        "    print(\"You are qualified for a loan\")\n",
        "else:\n",
        "    print(\"You are not qualified for a loan\")"
      ],
      "metadata": {
        "colab": {
          "base_uri": "https://localhost:8080/"
        },
        "id": "LohKbBa6qOF8",
        "outputId": "ee651926-5f08-4e42-ffd9-1e268bdba9a9"
      },
      "execution_count": 2,
      "outputs": [
        {
          "output_type": "stream",
          "name": "stdout",
          "text": [
            "Enter your Salary: 30000\n",
            "Enter your years at current job: 1\n",
            "You are not qualified for a loan\n"
          ]
        }
      ]
    },
    {
      "cell_type": "code",
      "source": [
        "# Question 3 : Develop a script that assigns grades to students based on their score.\n",
        "\n",
        "score = float(input(\"Enter the student's score: \"))\n",
        "\n",
        "if score >= 90:\n",
        "    grade = 'A'\n",
        "elif score >= 80:\n",
        "    grade = 'B'\n",
        "elif score >= 70:\n",
        "    grade = 'C'\n",
        "elif score >= 60:\n",
        "    grade = 'D'\n",
        "else:\n",
        "    grade = 'F'\n",
        "\n",
        "print(f\"The student's grade is: {grade}\")"
      ],
      "metadata": {
        "colab": {
          "base_uri": "https://localhost:8080/"
        },
        "id": "KSf5UkpJqPzr",
        "outputId": "8c3a5591-1ef8-4e90-f119-4454b365a950"
      },
      "execution_count": 5,
      "outputs": [
        {
          "output_type": "stream",
          "name": "stdout",
          "text": [
            "Enter the student's score: 75\n",
            "The student's grade is: C\n"
          ]
        }
      ]
    },
    {
      "cell_type": "code",
      "source": [
        "#Question 4 :  Write a Python script that asks for the number of items and the price per item,\n",
        "# then calculates and prints the total cost with a 10% discount for 10 or more items, or a 20% discount for 20 or more items.\n",
        "items = int(input(\"Enter the number of items: \"))\n",
        "price = float(input(\"Enter the price per item: \"))\n",
        "\n",
        "total_cost = items * price\n",
        "\n",
        "if items >= 20:\n",
        "    discount = total_cost * 0.2\n",
        "elif items >= 10:\n",
        "    discount = total_cost * 0.1\n",
        "else:\n",
        "    discount = 0\n",
        "\n",
        "final_cost = total_cost - discount\n",
        "\n",
        "print(f\"Total cost before discount: {total_cost:.2f}\")\n",
        "print(f\"Discount amount: {discount:.2f}\")\n",
        "print(f\"Total cost after discount: {final_cost:.2f}\")\n",
        "\n"
      ],
      "metadata": {
        "colab": {
          "base_uri": "https://localhost:8080/"
        },
        "id": "i2R0qbhtqRRT",
        "outputId": "c433faa1-12c4-4087-fe96-abc3e36d1836"
      },
      "execution_count": 7,
      "outputs": [
        {
          "output_type": "stream",
          "name": "stdout",
          "text": [
            "Enter the number of items: 56\n",
            "Enter the price per item: 70\n",
            "Total cost before discount: 3920.00\n",
            "Discount amount: 784.00\n",
            "Total cost after discount: 3136.00\n"
          ]
        }
      ]
    },
    {
      "cell_type": "code",
      "source": [
        "# Question 5 : Write a Python script that inputs the time (24-hour format) and the customer's age, then prints the ticket price.\n",
        "# Ticket prices are as follows:\n",
        "# Regular hours (before 5 PM): $12 for adults, $8 for seniors (60+), $5 for children (under 12).\n",
        "# Evening hours (5 PM and later): $15 for adults, $10 for seniors, $8 for children.\n",
        "\n",
        "\n",
        "time = int(input(\"Enter the show time (0–23): \"))\n",
        "age = int(input(\"Enter your age: \"))\n",
        "\n",
        "\n",
        "if time < 17:\n",
        "    # Regular hours\n",
        "    if age < 12:\n",
        "        price = 5\n",
        "    elif age >= 60:\n",
        "        price = 8\n",
        "    else:\n",
        "        price = 12\n",
        "else:\n",
        "    # Evening hours\n",
        "    if age < 12:\n",
        "        price = 8\n",
        "    elif age >= 60:\n",
        "        price = 10\n",
        "    else:\n",
        "        price = 15\n",
        "\n",
        "\n",
        "print(\"Ticket price: $\", price)\n",
        "\n",
        "\n",
        "\n",
        "\n",
        "\n"
      ],
      "metadata": {
        "colab": {
          "base_uri": "https://localhost:8080/"
        },
        "id": "rYxEudR8qSuR",
        "outputId": "4acbfcaf-60ac-4004-8eef-700711eb412c"
      },
      "execution_count": 9,
      "outputs": [
        {
          "output_type": "stream",
          "name": "stdout",
          "text": [
            "Enter the show time (0–23): 17\n",
            "Enter your age: 25\n",
            "Ticket price: $ 15\n"
          ]
        }
      ]
    },
    {
      "cell_type": "code",
      "source": [],
      "metadata": {
        "id": "zpJlqBIXqUii"
      },
      "execution_count": null,
      "outputs": []
    }
  ]
}