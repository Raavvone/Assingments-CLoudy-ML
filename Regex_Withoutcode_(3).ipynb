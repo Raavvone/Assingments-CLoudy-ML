{
  "cells": [
    {
      "cell_type": "markdown",
      "metadata": {
        "id": "view-in-github",
        "colab_type": "text"
      },
      "source": [
        "<a href=\"https://colab.research.google.com/github/Raavvone/Assingments-CLoudy-ML/blob/main/Regex_Withoutcode_(3).ipynb\" target=\"_parent\"><img src=\"https://colab.research.google.com/assets/colab-badge.svg\" alt=\"Open In Colab\"/></a>"
      ]
    },
    {
      "cell_type": "markdown",
      "metadata": {
        "id": "FSjo1RkHwHtF"
      },
      "source": [
        "## <center><u>Regular Expression</u></center>\n",
        "\n",
        "\n",
        "Regular Expression – better known as Regex – is pattern matching. As regular expressions are regular, it means they are used to match well-defined patterns. Regular expression or pattern matching tools identify words and phrases with common patterns.  A typical use case for Regex is find and replace, however as it is not able to understand syntax, grammar, or context, Regex solutions tend to operate on a very small well-defined problem set. Basically, Regex solutions are using pattern matching to merely identify similarities and differences in patterns of words and phrases. They are not able to identify words and phrases taking into consideration syntax, grammar and ultimately context.\n",
        "\n",
        "\n",
        "You will be facing some challenging questions on Regex in this assignment. Below **`following steps`** would help you to complete this assignment:\n",
        "\n",
        "- **`1. Read the question`**\n",
        "- **`2. Go to the link given under the question`**\n",
        "- **`3. You will land on Hakerrank page, if not then create your Hakerrank account.`**\n",
        "- **`4. Once you land on hankerank page mentioned under question, go through the given problem carefully.`**\n",
        "- **`5. Solve it in the editor given in the page. Select python3 as your language in the editor and click 'Run Code' Button`**\n",
        "- **`6. Once you have passed all the sample test cases, write your solution in this assignment against each question, save the file and then submit on portal.`**\n",
        "\n",
        "\n",
        "If you need any assistence on Regex, then please refer below links:\n",
        "\n",
        "## **`Watch Video 18: Regex Tutorial`**\n",
        "\n",
        "Regex doc: https://docs.python.org/3/howto/regex.html\n",
        "\n",
        "\n"
      ]
    },
    {
      "cell_type": "markdown",
      "metadata": {
        "id": "0kkaVALuwHtK"
      },
      "source": [
        "#### Q1. Matching string problem\n",
        "\n",
        "https://www.hackerrank.com/challenges/matching-specific-string/problem"
      ]
    },
    {
      "cell_type": "code",
      "source": [
        "Regex_Pattern = r'hackerrank'"
      ],
      "metadata": {
        "id": "jL2M3dqPwbv3"
      },
      "execution_count": 2,
      "outputs": []
    },
    {
      "cell_type": "markdown",
      "metadata": {
        "id": "96u-5hSQwHtM"
      },
      "source": [
        "#### Q2 Matching anything\n",
        "\n",
        "link - https://www.hackerrank.com/challenges/matching-anything-but-new-line/problem\n"
      ]
    },
    {
      "cell_type": "code",
      "source": [
        "regex_pattern = r\"^...\\....\\....\\....$\"\n"
      ],
      "metadata": {
        "id": "vLhIrsWgwd-w"
      },
      "execution_count": 3,
      "outputs": []
    },
    {
      "cell_type": "markdown",
      "metadata": {
        "id": "2r69G5X6wHtN"
      },
      "source": [
        "#### Q3 Matching non digit character\n",
        "\n",
        "link - https://www.hackerrank.com/challenges/matching-digits-non-digit-character/problem"
      ]
    },
    {
      "cell_type": "code",
      "source": [
        "Regex_Pattern = r\"\\d{2}\\D\\d{2}\\D\\d{4}\""
      ],
      "metadata": {
        "id": "ewXFBXv-whb0"
      },
      "execution_count": 4,
      "outputs": []
    },
    {
      "cell_type": "markdown",
      "metadata": {
        "id": "nAwYC2WWwHtO"
      },
      "source": [
        "#### Q4 matching whitespace - non whitespace\n",
        "\n",
        "\n",
        "link - https://www.hackerrank.com/challenges/matching-whitespace-non-whitespace-character/problem?h_r=next-challenge&h_v=zen\n"
      ]
    },
    {
      "cell_type": "code",
      "source": [
        "Regex_Pattern = r\"\\S{2}\\s\\S{2}\\s\\S{2}\""
      ],
      "metadata": {
        "id": "u-b0idauwk4k"
      },
      "execution_count": 5,
      "outputs": []
    },
    {
      "cell_type": "markdown",
      "metadata": {
        "id": "BmfTWoPhwHtP"
      },
      "source": [
        "#### Q5 matching start end problem\n",
        "\n",
        "\n",
        "\n",
        "link - https://www.hackerrank.com/challenges/matching-start-end/problem?h_r=next-challenge&h_v=zen&h_r=next-challenge&h_v=zen&h_r=next-challenge&h_v=zen"
      ]
    },
    {
      "cell_type": "code",
      "source": [
        "\n"
      ],
      "metadata": {
        "id": "2YrxQ2htwYYR"
      },
      "execution_count": null,
      "outputs": []
    },
    {
      "cell_type": "markdown",
      "metadata": {
        "id": "y0zG45zvwHtQ"
      },
      "source": [
        "#### Q6 negative lookbehind\n",
        "\n",
        "link - https://www.hackerrank.com/challenges/negative-lookbehind/problem"
      ]
    },
    {
      "cell_type": "code",
      "source": [
        "Regex_Pattern = r\"(?<![aeiouAEIOU]).\""
      ],
      "metadata": {
        "id": "Nc8Eh8yHwVO9"
      },
      "execution_count": 6,
      "outputs": []
    },
    {
      "cell_type": "markdown",
      "metadata": {
        "id": "GvFxBjskwHtR"
      },
      "source": [
        "#### Q7 Html attribute problem\n",
        "\n",
        "link - https://www.hackerrank.com/challenges/html-attributes/problem"
      ]
    },
    {
      "cell_type": "code",
      "source": [
        "\n",
        "import re\n",
        "from collections import defaultdict\n",
        "\n",
        "# Read number of lines\n",
        "N = int(input())\n",
        "# Read all input lines and concatenate them into one string\n",
        "mystr = ''.join(input() for _ in range(N))\n",
        "\n",
        "# Find all tags with attributes\n",
        "tags = re.findall(r\"<(\\w+)(\\s+[^>]*)?>\", mystr)\n",
        "# Dictionary to store tags and their attributes\n",
        "mydict = defaultdict(set)\n",
        "\n",
        "# Iterate over found tags\n",
        "for tag, attrs in tags:\n",
        "    if attrs:\n",
        "        # Find all attribute names\n",
        "        attrs = re.findall(r\"(\\w+)=[\\'\\\"]\", attrs)\n",
        "        mydict[tag].update(attrs)\n",
        "    else:\n",
        "        mydict[tag].update([])\n",
        "\n",
        "# Convert set to sorted, comma-separated string\n",
        "mydict = {k: ','.join(sorted(v)) for k, v in sorted(mydict.items())}\n",
        "\n",
        "# Print the result\n",
        "for k, v in mydict.items():\n",
        "    print(f\"{k}:{v}\")\n"
      ],
      "metadata": {
        "id": "U-YXLhpGwSXR",
        "collapsed": true
      },
      "execution_count": null,
      "outputs": []
    },
    {
      "cell_type": "markdown",
      "metadata": {
        "id": "AnyIRWVNwHtR"
      },
      "source": [
        "#### Q8 detect html tags\n",
        "\n",
        "link - https://www.hackerrank.com/challenges/detect-html-tags/problem\n"
      ]
    },
    {
      "cell_type": "code",
      "source": [
        "import re, sys\n",
        "\n",
        "print(';'.join(sorted(set(re.findall('<(\\w+)', sys.stdin.read())))))"
      ],
      "metadata": {
        "id": "TVM2MPcZwowT",
        "colab": {
          "base_uri": "https://localhost:8080/"
        },
        "outputId": "21080548-a49c-42cb-b223-0670b50c394f"
      },
      "execution_count": 1,
      "outputs": [
        {
          "output_type": "stream",
          "name": "stdout",
          "text": [
            "\n"
          ]
        }
      ]
    },
    {
      "cell_type": "markdown",
      "metadata": {
        "id": "u7G_61dNwHtS"
      },
      "source": [
        "#### Q9 final substring problem\n",
        "\n",
        "link - https://www.hackerrank.com/challenges/find-substring/problem\n"
      ]
    },
    {
      "cell_type": "code",
      "source": [
        "import re\n",
        "\n",
        "n = int(input())\n",
        "text = \"\\n\".join(input() for _ in range(n))\n",
        "\n",
        "t = int(input())\n",
        "\n",
        "for _ in range(t):\n",
        "    print(len(re.findall(r'\\B(%s)\\B' % input().strip(), text)))\n"
      ],
      "metadata": {
        "id": "H7HfMdAmwrV0",
        "collapsed": true
      },
      "execution_count": null,
      "outputs": []
    },
    {
      "cell_type": "markdown",
      "metadata": {
        "id": "o2t6Cf8wwHtT"
      },
      "source": [
        "#### Q 10 Alien username\n",
        "\n",
        "link - https://www.hackerrank.com/challenges/alien-username/problem"
      ]
    },
    {
      "cell_type": "code",
      "source": [
        "import re\n",
        "\n",
        "n = int(input())\n",
        "for _ in range(n):\n",
        "    if re.match(\"^[_.]{1}[0-9]{1,}[a-zA-Z]{0,}[_]{0,1}$\", input()):\n",
        "        print(\"VALID\")\n",
        "\n",
        "    else:\n",
        "        print(\"INVALID\")"
      ],
      "metadata": {
        "id": "gXoOLapuwuDz"
      },
      "execution_count": null,
      "outputs": []
    },
    {
      "cell_type": "markdown",
      "metadata": {
        "id": "BnGmmBnwwHtT"
      },
      "source": [
        "#### Q11 ip address validation\n",
        "\n",
        "link - https://www.hackerrank.com/challenges/ip-address-validation/problem"
      ]
    },
    {
      "cell_type": "code",
      "source": [
        "import re\n",
        "n = int(input())\n",
        "s4 = ('^'+\"{v}\\.\"*3+\"{v}$\").format(v=\"(25[0-5]|2[0-4]\\d|[01]?\\d?\\d)\")\n",
        "s6 = ('^'+\"{v}:\"*7+\"{v}$\").format(v=\"[\\da-f]{1,4}\")\n",
        "ip4 = re.compile(s4)\n",
        "ip6 = re.compile(s6)\n",
        "\n",
        "while n:\n",
        "    s = input()\n",
        "    if ip4.match(s):\n",
        "        print(\"IPv4\")\n",
        "    elif ip6.match(s):\n",
        "        print(\"IPv6\")\n",
        "    else:\n",
        "        print(\"Neither\")\n",
        "    n-=1"
      ],
      "metadata": {
        "id": "gBwwV5nbwwxo"
      },
      "execution_count": null,
      "outputs": []
    },
    {
      "cell_type": "markdown",
      "metadata": {
        "id": "D8mN4d5_wHtU"
      },
      "source": [
        "\n",
        "#### Q 12 find a word problem\n",
        "\n",
        "link - https://www.hackerrank.com/challenges/find-a-word/problem\n"
      ]
    },
    {
      "cell_type": "code",
      "source": [
        "import re\n",
        "ss = ''\n",
        "\n",
        "for _ in range(int(input())):\n",
        "    ss += input() + '\\n'\n",
        "\n",
        "for _ in range(int(input())):\n",
        "    wrd = input()\n",
        "    print(len(re.findall(rf'\\b{wrd}\\b', ss)))"
      ],
      "metadata": {
        "id": "C8mbWsWdwz6O"
      },
      "execution_count": null,
      "outputs": []
    },
    {
      "cell_type": "markdown",
      "metadata": {
        "id": "tYt22wTJwHtU"
      },
      "source": [
        "#### Q13 detect the email address\n",
        "\n",
        "link - https://www.hackerrank.com/challenges/detect-the-email-addresses/problem"
      ]
    },
    {
      "cell_type": "code",
      "source": [
        "import re\n",
        "N = int(input())\n",
        "mystr = ' '.join([input() for i in range(N)])\n",
        "print(';'.join(sorted(set([i for i in re.findall(r\"([\\w.]+@[\\w.]+\\w+)\", mystr)]))))"
      ],
      "metadata": {
        "id": "3H8Yy3YTw2P-"
      },
      "execution_count": null,
      "outputs": []
    },
    {
      "cell_type": "markdown",
      "metadata": {
        "id": "kqfXJBm6wHtU"
      },
      "source": [
        "Q14 detect the domain problem\n",
        "\n",
        "link - https://www.hackerrank.com/challenges/detect-the-domain-name/problem"
      ]
    },
    {
      "cell_type": "code",
      "source": [
        "\n",
        "import re\n",
        "\n",
        "# Define the regex pattern\n",
        "pat = r'(?:http://|https://)(?:www\\.|ww2\\.)?((?:[0-9a-zA-Z_-]+\\.)+[a-zA-Z]+)'\n",
        "\n",
        "# Read the number of input lines\n",
        "N = int(input())\n",
        "\n",
        "res = []\n",
        "for _ in range(N):\n",
        "    txt = input()\n",
        "    ans = re.findall(pat, txt)\n",
        "    res += ans\n",
        "\n",
        "# Print the results\n",
        "print(';'.join(sorted(set(res))))\n",
        "\n"
      ],
      "metadata": {
        "id": "YB7UCwwsw4-Q"
      },
      "execution_count": null,
      "outputs": []
    },
    {
      "cell_type": "markdown",
      "metadata": {
        "id": "dUm16gwFwHtV"
      },
      "source": [
        "#### Q15 ide challenge\n",
        "\n",
        "link - https://www.hackerrank.com/challenges/ide-identifying-comments/problem"
      ]
    },
    {
      "cell_type": "code",
      "source": [
        "import re\n",
        "import sys\n",
        "\n",
        "t = \"\\n\".join([i.strip() for i in sys.stdin])\n",
        "print(\"\\n\".join(re.findall(r\"//.*|/\\*[\\S\\s]*?\\*/\", t)))\n"
      ],
      "metadata": {
        "id": "IdrLo4VUw7dV"
      },
      "execution_count": null,
      "outputs": []
    },
    {
      "cell_type": "markdown",
      "metadata": {
        "id": "nODVXXxdwHtV"
      },
      "source": [
        "#### Q16 programming language detection problem\n",
        "\n",
        "link - https://www.hackerrank.com/challenges/programming-language-detection/problem"
      ]
    },
    {
      "cell_type": "code",
      "source": [
        "import re\n",
        "import sys\n",
        "\n",
        "src = ''.join(sys.stdin.readlines())\n",
        "\n",
        "if 'java' in src:\n",
        "    print(\"Java\")\n",
        "elif '#include' in src:\n",
        "    print(\"C\")\n",
        "else:\n",
        "    print('Python')"
      ],
      "metadata": {
        "id": "oQ2Zyx_0w9_a"
      },
      "execution_count": null,
      "outputs": []
    },
    {
      "cell_type": "markdown",
      "metadata": {
        "id": "yTdfWG8VwHtV"
      },
      "source": [
        "\n",
        "---------------------------------\n",
        "\n",
        "# \"Holly jolly\":) Congratulations! you have completed the REGEX assignment.\n",
        "\n",
        "--------------------------------\n",
        "\n",
        "# FeedBack\n",
        "We hope you’ve enjoyed this course so far. We’re committed to help you use \"AI for All\" course to its full potential, so that you have a great learning experience. And that’s why we need your help in form of a feedback here.\n",
        "\n",
        "Please fill this feedback form  https://zfrmz.in/MtRG5oWXBdesm6rmSM7N"
      ]
    }
  ],
  "metadata": {
    "kernelspec": {
      "display_name": "Python 3",
      "language": "python",
      "name": "python3"
    },
    "language_info": {
      "codemirror_mode": {
        "name": "ipython",
        "version": 3
      },
      "file_extension": ".py",
      "mimetype": "text/x-python",
      "name": "python",
      "nbconvert_exporter": "python",
      "pygments_lexer": "ipython3",
      "version": "3.8.5"
    },
    "colab": {
      "provenance": [],
      "include_colab_link": true
    }
  },
  "nbformat": 4,
  "nbformat_minor": 0
}