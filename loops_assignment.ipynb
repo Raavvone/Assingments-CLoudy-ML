{
  "nbformat": 4,
  "nbformat_minor": 0,
  "metadata": {
    "colab": {
      "provenance": [],
      "authorship_tag": "ABX9TyNBs0KwKblzJmgdCa+VFwqC",
      "include_colab_link": true
    },
    "kernelspec": {
      "name": "python3",
      "display_name": "Python 3"
    },
    "language_info": {
      "name": "python"
    }
  },
  "cells": [
    {
      "cell_type": "markdown",
      "metadata": {
        "id": "view-in-github",
        "colab_type": "text"
      },
      "source": [
        "<a href=\"https://colab.research.google.com/github/Raavvone/Assingments-CLoudy-ML/blob/main/loops_assignment.ipynb\" target=\"_parent\"><img src=\"https://colab.research.google.com/assets/colab-badge.svg\" alt=\"Open In Colab\"/></a>"
      ]
    },
    {
      "cell_type": "markdown",
      "source": [
        "# **Loops Assignment**"
      ],
      "metadata": {
        "id": "kciX3vKFg6pB"
      }
    },
    {
      "cell_type": "code",
      "execution_count": 2,
      "metadata": {
        "colab": {
          "base_uri": "https://localhost:8080/"
        },
        "id": "1SkZO927ceHi",
        "outputId": "0ed7f124-2613-4d78-b7dd-685671621d62"
      },
      "outputs": [
        {
          "output_type": "stream",
          "name": "stdout",
          "text": [
            "Duplicate elements: [1, 2, 3]\n"
          ]
        }
      ],
      "source": [
        "# Question 1 : Find and print duplicate elements in a list.\n",
        "\n",
        "numbers = [1, 2, 3, 4, 5, 3, 2, 1, 6]\n",
        "\n",
        "\n",
        "duplicates = []\n",
        "\n",
        "for i in numbers:\n",
        "    if numbers.count(i) > 1 and i not in duplicates:\n",
        "        duplicates.append(i)\n",
        "\n",
        "print(\"Duplicate elements:\", duplicates)\n",
        "\n"
      ]
    },
    {
      "cell_type": "code",
      "source": [
        "# Question 2 : Find and print the second largest number in a list.\n",
        "\n",
        "numbers = [1, 3, 4, 5, 0, 2, 6, 7, 8]\n",
        "\n",
        "numbers.sort()\n",
        "\n",
        "second_largest = numbers[-2]\n",
        "\n",
        "print(\"Second largest number:\", second_largest)\n"
      ],
      "metadata": {
        "colab": {
          "base_uri": "https://localhost:8080/"
        },
        "id": "NtZrzCL7c5Lk",
        "outputId": "ad941f39-b23d-4a74-8c39-92d99c178df9"
      },
      "execution_count": 3,
      "outputs": [
        {
          "output_type": "stream",
          "name": "stdout",
          "text": [
            "Second largest number: 7\n"
          ]
        }
      ]
    },
    {
      "cell_type": "code",
      "source": [
        "# Question 3 : Generate and print the first 10 numbers in the Fibonacci sequence.\n",
        "\n",
        "a, b = 0, 1\n",
        "count = 10\n",
        "print(\"Fibonacci Sequence:\")\n",
        "while count > 0:\n",
        "    print(a, end=\" \")\n",
        "    a, b = b, a + b\n",
        "    count -= 1\n",
        "\n"
      ],
      "metadata": {
        "colab": {
          "base_uri": "https://localhost:8080/"
        },
        "id": "1DPpKEZAc61s",
        "outputId": "162b8fbf-4392-4499-9189-0f4de74da5e1"
      },
      "execution_count": 5,
      "outputs": [
        {
          "output_type": "stream",
          "name": "stdout",
          "text": [
            "Fibonacci Sequence:\n",
            "0 1 1 2 3 5 8 13 21 34 "
          ]
        }
      ]
    },
    {
      "cell_type": "code",
      "source": [
        "# Question 4 : Add two 3x3 matrices using loop and print the result.\n",
        "\n",
        "matrix1 = [\n",
        "    [1, 2, 3],\n",
        "    [4, 5, 6],\n",
        "    [7, 8, 9]\n",
        "]\n",
        "matrix2 = [\n",
        "    [9, 8, 7],\n",
        "    [6, 5, 4],\n",
        "    [3, 2, 1]\n",
        "]\n",
        "\n",
        "\n",
        "result = [[matrix1[i][j] + matrix2[i][j] for j in range(3)] for i in range(3)]\n",
        "\n",
        "for row in result:\n",
        "    print(row)"
      ],
      "metadata": {
        "colab": {
          "base_uri": "https://localhost:8080/"
        },
        "id": "-s-nmYlDc8DS",
        "outputId": "fdc67c5f-e59f-43ff-941d-e1505ef051c3"
      },
      "execution_count": 8,
      "outputs": [
        {
          "output_type": "stream",
          "name": "stdout",
          "text": [
            "[10, 10, 10]\n",
            "[10, 10, 10]\n",
            "[10, 10, 10]\n"
          ]
        }
      ]
    },
    {
      "cell_type": "code",
      "source": [
        "# Question 5 : Calculate the sum of digits of a given number.\n",
        "\n",
        "number = 12345\n",
        "\n",
        "total = 0\n",
        "\n",
        "for digit in str(number):\n",
        "    total += int(digit)\n",
        "\n",
        "print(\"Sum of digits:\", total)"
      ],
      "metadata": {
        "colab": {
          "base_uri": "https://localhost:8080/"
        },
        "id": "gCAtYyKwc9zi",
        "outputId": "bbfecd36-f7a0-49d0-88d8-ec847f68805f"
      },
      "execution_count": 10,
      "outputs": [
        {
          "output_type": "stream",
          "name": "stdout",
          "text": [
            "Sum of digits: 15\n"
          ]
        }
      ]
    },
    {
      "cell_type": "code",
      "source": [
        "# Question 6 : Print numbers from 1 to 50. For multiples of 3, print \"Fizz\" instead of the number,\n",
        "# and for multiples of 5, print \"Buzz\". For numbers that are multiples of both 3 and 5, print \"FizzBuzz\".\n",
        "\n",
        "\n",
        "for i in range(1, 51):\n",
        "    if i % 3 == 0 and i % 5 == 0:\n",
        "        print(\"FizzBuzz\")\n",
        "    elif i % 3 == 0:\n",
        "        print(\"Fizz\")\n",
        "    elif i % 5 == 0:\n",
        "        print(\"Buzz\")\n",
        "    else:\n",
        "        print(i)"
      ],
      "metadata": {
        "colab": {
          "base_uri": "https://localhost:8080/"
        },
        "id": "6RxGiWfOc_p9",
        "outputId": "7cb5838a-ac20-4ce6-b45c-aa7e57bb4256"
      },
      "execution_count": 12,
      "outputs": [
        {
          "output_type": "stream",
          "name": "stdout",
          "text": [
            "1\n",
            "2\n",
            "Fizz\n",
            "4\n",
            "Buzz\n",
            "Fizz\n",
            "7\n",
            "8\n",
            "Fizz\n",
            "Buzz\n",
            "11\n",
            "Fizz\n",
            "13\n",
            "14\n",
            "FizzBuzz\n",
            "16\n",
            "17\n",
            "Fizz\n",
            "19\n",
            "Buzz\n",
            "Fizz\n",
            "22\n",
            "23\n",
            "Fizz\n",
            "Buzz\n",
            "26\n",
            "Fizz\n",
            "28\n",
            "29\n",
            "FizzBuzz\n",
            "31\n",
            "32\n",
            "Fizz\n",
            "34\n",
            "Buzz\n",
            "Fizz\n",
            "37\n",
            "38\n",
            "Fizz\n",
            "Buzz\n",
            "41\n",
            "Fizz\n",
            "43\n",
            "44\n",
            "FizzBuzz\n",
            "46\n",
            "47\n",
            "Fizz\n",
            "49\n",
            "Buzz\n"
          ]
        }
      ]
    },
    {
      "cell_type": "code",
      "source": [
        "# Question 7 : Check if a given string is a palindrome (reads the same forwards and backwards).\n",
        "\n",
        "string = \"madam\"\n",
        "\n",
        "if string==string[::-1]:\n",
        "    print(\"Palindrome\")\n",
        "else:\n",
        "    print(\"Not Palindrome\")\n"
      ],
      "metadata": {
        "colab": {
          "base_uri": "https://localhost:8080/"
        },
        "id": "bfDMCevadBS9",
        "outputId": "3aeebe22-2edb-4932-f6dd-94d4dcec1fa5"
      },
      "execution_count": 13,
      "outputs": [
        {
          "output_type": "stream",
          "name": "stdout",
          "text": [
            "Palindrome\n"
          ]
        }
      ]
    },
    {
      "cell_type": "code",
      "source": [],
      "metadata": {
        "id": "0HBQwuYCg1MK"
      },
      "execution_count": null,
      "outputs": []
    }
  ]
}